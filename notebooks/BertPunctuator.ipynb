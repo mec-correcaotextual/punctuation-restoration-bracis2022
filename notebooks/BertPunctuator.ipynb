{
  "cells": [
    {
      "cell_type": "code",
      "execution_count": null,
      "metadata": {
        "id": "WBAATRM7Ssg4"
      },
      "outputs": [],
      "source": [
        "!pip install simpletransformers"
      ]
    },
    {
      "cell_type": "code",
      "execution_count": null,
      "metadata": {
        "colab": {
          "base_uri": "https://localhost:8080/"
        },
        "id": "U29De-6D7pAo",
        "outputId": "8b14a6ca-892e-46f7-a980-b6e94d171c89"
      },
      "outputs": [
        {
          "name": "stdout",
          "output_type": "stream",
          "text": [
            "--2022-05-20 21:46:01--  https://www.dropbox.com/s/sukruo2u3tiq5fr/punct-data.zip?dl=1\n",
            "Resolving www.dropbox.com (www.dropbox.com)... 162.125.6.18, 2620:100:6019:18::a27d:412\n",
            "Connecting to www.dropbox.com (www.dropbox.com)|162.125.6.18|:443... connected.\n",
            "HTTP request sent, awaiting response... 301 Moved Permanently\n",
            "Location: /s/dl/sukruo2u3tiq5fr/punct-data.zip [following]\n",
            "--2022-05-20 21:46:01--  https://www.dropbox.com/s/dl/sukruo2u3tiq5fr/punct-data.zip\n",
            "Reusing existing connection to www.dropbox.com:443.\n",
            "HTTP request sent, awaiting response... 302 Found\n",
            "Location: https://ucf1a5392ee7db06880c3908e1ec.dl.dropboxusercontent.com/cd/0/get/Blqcwg9cODOnDcRD4NP-edOUx5HikjT3QD4DeBhvz9Xsvlr14C-QwVCdfjdH5EoYXhwFxSDnP5DsyvlyQ-gcxDSjQM7dcg2LZvPV1Bj1grrIl5tWaeVXvd2lEYx0PHmkRV8gZKGWiJKFOVhxsEKcKERyASXtGw6PDNw45XTjkZvSrGYDAUoRt7JA6m35l5e27VU/file?dl=1# [following]\n",
            "--2022-05-20 21:46:01--  https://ucf1a5392ee7db06880c3908e1ec.dl.dropboxusercontent.com/cd/0/get/Blqcwg9cODOnDcRD4NP-edOUx5HikjT3QD4DeBhvz9Xsvlr14C-QwVCdfjdH5EoYXhwFxSDnP5DsyvlyQ-gcxDSjQM7dcg2LZvPV1Bj1grrIl5tWaeVXvd2lEYx0PHmkRV8gZKGWiJKFOVhxsEKcKERyASXtGw6PDNw45XTjkZvSrGYDAUoRt7JA6m35l5e27VU/file?dl=1\n",
            "Resolving ucf1a5392ee7db06880c3908e1ec.dl.dropboxusercontent.com (ucf1a5392ee7db06880c3908e1ec.dl.dropboxusercontent.com)... 162.125.6.15, 2620:100:601d:15::a27d:50f\n",
            "Connecting to ucf1a5392ee7db06880c3908e1ec.dl.dropboxusercontent.com (ucf1a5392ee7db06880c3908e1ec.dl.dropboxusercontent.com)|162.125.6.15|:443... connected.\n",
            "HTTP request sent, awaiting response... 200 OK\n",
            "Length: 1396353 (1.3M) [application/binary]\n",
            "Saving to: ‘punct-data.zip’\n",
            "\n",
            "punct-data.zip      100%[===================>]   1.33M  --.-KB/s    in 0.09s   \n",
            "\n",
            "2022-05-20 21:46:02 (14.5 MB/s) - ‘punct-data.zip’ saved [1396353/1396353]\n",
            "\n",
            "Archive:  punct-data.zip\n",
            "   creating: punct-data/\n",
            "  inflating: punct-data/test.csv     \n",
            "  inflating: punct-data/train.csv    \n",
            "  inflating: punct-data/val.csv      \n"
          ]
        }
      ],
      "source": [
        "!wget  https://www.dropbox.com/s/sukruo2u3tiq5fr/punct-data.zip?dl=1 -O punct-data.zip\n",
        "!unzip punct-data.zip"
      ]
    },
    {
      "cell_type": "code",
      "execution_count": null,
      "metadata": {
        "id": "F-LaE2iJ8KCg"
      },
      "outputs": [],
      "source": [
        "import os\n",
        "import pandas as pd\n",
        "\n",
        "BASE_DIR = 'punct-data/'\n",
        "\n",
        "dataset = {\n",
        "    \n",
        "}\n",
        "\n",
        "for filename in os.listdir(BASE_DIR):\n",
        "  dataset[filename.replace('.csv', '')] = pd.read_csv(os.path.join(BASE_DIR, filename)).dropna()\n",
        " "
      ]
    },
    {
      "cell_type": "code",
      "execution_count": null,
      "metadata": {
        "colab": {
          "base_uri": "https://localhost:8080/",
          "height": 505
        },
        "id": "66_Qd7R1R1dM",
        "outputId": "df3eaba1-8544-4654-8241-b97c45178b02"
      },
      "outputs": [
        {
          "data": {
            "text/html": [
              "\n",
              "  <div id=\"df-394cf478-4b71-4771-8d0c-382fc05d48d6\">\n",
              "    <div class=\"colab-df-container\">\n",
              "      <div>\n",
              "<style scoped>\n",
              "    .dataframe tbody tr th:only-of-type {\n",
              "        vertical-align: middle;\n",
              "    }\n",
              "\n",
              "    .dataframe tbody tr th {\n",
              "        vertical-align: top;\n",
              "    }\n",
              "\n",
              "    .dataframe thead th {\n",
              "        text-align: right;\n",
              "    }\n",
              "</style>\n",
              "<table border=\"1\" class=\"dataframe\">\n",
              "  <thead>\n",
              "    <tr style=\"text-align: right;\">\n",
              "      <th></th>\n",
              "      <th>sentence_id</th>\n",
              "      <th>labels</th>\n",
              "      <th>words</th>\n",
              "    </tr>\n",
              "  </thead>\n",
              "  <tbody>\n",
              "    <tr>\n",
              "      <th>0</th>\n",
              "      <td>0</td>\n",
              "      <td>O</td>\n",
              "      <td>Filmado</td>\n",
              "    </tr>\n",
              "    <tr>\n",
              "      <th>1</th>\n",
              "      <td>0</td>\n",
              "      <td>O</td>\n",
              "      <td>na</td>\n",
              "    </tr>\n",
              "    <tr>\n",
              "      <th>2</th>\n",
              "      <td>0</td>\n",
              "      <td>O</td>\n",
              "      <td>cidade</td>\n",
              "    </tr>\n",
              "    <tr>\n",
              "      <th>3</th>\n",
              "      <td>0</td>\n",
              "      <td>O</td>\n",
              "      <td>de</td>\n",
              "    </tr>\n",
              "    <tr>\n",
              "      <th>4</th>\n",
              "      <td>0</td>\n",
              "      <td>O</td>\n",
              "      <td>Nova</td>\n",
              "    </tr>\n",
              "    <tr>\n",
              "      <th>...</th>\n",
              "      <td>...</td>\n",
              "      <td>...</td>\n",
              "      <td>...</td>\n",
              "    </tr>\n",
              "    <tr>\n",
              "      <th>239072</th>\n",
              "      <td>58213</td>\n",
              "      <td>O</td>\n",
              "      <td>democracia</td>\n",
              "    </tr>\n",
              "    <tr>\n",
              "      <th>239073</th>\n",
              "      <td>58213</td>\n",
              "      <td>O</td>\n",
              "      <td>direta</td>\n",
              "    </tr>\n",
              "    <tr>\n",
              "      <th>239074</th>\n",
              "      <td>58213</td>\n",
              "      <td>O</td>\n",
              "      <td>ter</td>\n",
              "    </tr>\n",
              "    <tr>\n",
              "      <th>239075</th>\n",
              "      <td>58213</td>\n",
              "      <td>I-PERIOD</td>\n",
              "      <td>sucesso</td>\n",
              "    </tr>\n",
              "    <tr>\n",
              "      <th>239076</th>\n",
              "      <td>58213</td>\n",
              "      <td>O</td>\n",
              "      <td>Se</td>\n",
              "    </tr>\n",
              "  </tbody>\n",
              "</table>\n",
              "<p>239076 rows × 3 columns</p>\n",
              "</div>\n",
              "      <button class=\"colab-df-convert\" onclick=\"convertToInteractive('df-394cf478-4b71-4771-8d0c-382fc05d48d6')\"\n",
              "              title=\"Convert this dataframe to an interactive table.\"\n",
              "              style=\"display:none;\">\n",
              "        \n",
              "  <svg xmlns=\"http://www.w3.org/2000/svg\" height=\"24px\"viewBox=\"0 0 24 24\"\n",
              "       width=\"24px\">\n",
              "    <path d=\"M0 0h24v24H0V0z\" fill=\"none\"/>\n",
              "    <path d=\"M18.56 5.44l.94 2.06.94-2.06 2.06-.94-2.06-.94-.94-2.06-.94 2.06-2.06.94zm-11 1L8.5 8.5l.94-2.06 2.06-.94-2.06-.94L8.5 2.5l-.94 2.06-2.06.94zm10 10l.94 2.06.94-2.06 2.06-.94-2.06-.94-.94-2.06-.94 2.06-2.06.94z\"/><path d=\"M17.41 7.96l-1.37-1.37c-.4-.4-.92-.59-1.43-.59-.52 0-1.04.2-1.43.59L10.3 9.45l-7.72 7.72c-.78.78-.78 2.05 0 2.83L4 21.41c.39.39.9.59 1.41.59.51 0 1.02-.2 1.41-.59l7.78-7.78 2.81-2.81c.8-.78.8-2.07 0-2.86zM5.41 20L4 18.59l7.72-7.72 1.47 1.35L5.41 20z\"/>\n",
              "  </svg>\n",
              "      </button>\n",
              "      \n",
              "  <style>\n",
              "    .colab-df-container {\n",
              "      display:flex;\n",
              "      flex-wrap:wrap;\n",
              "      gap: 12px;\n",
              "    }\n",
              "\n",
              "    .colab-df-convert {\n",
              "      background-color: #E8F0FE;\n",
              "      border: none;\n",
              "      border-radius: 50%;\n",
              "      cursor: pointer;\n",
              "      display: none;\n",
              "      fill: #1967D2;\n",
              "      height: 32px;\n",
              "      padding: 0 0 0 0;\n",
              "      width: 32px;\n",
              "    }\n",
              "\n",
              "    .colab-df-convert:hover {\n",
              "      background-color: #E2EBFA;\n",
              "      box-shadow: 0px 1px 2px rgba(60, 64, 67, 0.3), 0px 1px 3px 1px rgba(60, 64, 67, 0.15);\n",
              "      fill: #174EA6;\n",
              "    }\n",
              "\n",
              "    [theme=dark] .colab-df-convert {\n",
              "      background-color: #3B4455;\n",
              "      fill: #D2E3FC;\n",
              "    }\n",
              "\n",
              "    [theme=dark] .colab-df-convert:hover {\n",
              "      background-color: #434B5C;\n",
              "      box-shadow: 0px 1px 3px 1px rgba(0, 0, 0, 0.15);\n",
              "      filter: drop-shadow(0px 1px 2px rgba(0, 0, 0, 0.3));\n",
              "      fill: #FFFFFF;\n",
              "    }\n",
              "  </style>\n",
              "\n",
              "      <script>\n",
              "        const buttonEl =\n",
              "          document.querySelector('#df-394cf478-4b71-4771-8d0c-382fc05d48d6 button.colab-df-convert');\n",
              "        buttonEl.style.display =\n",
              "          google.colab.kernel.accessAllowed ? 'block' : 'none';\n",
              "\n",
              "        async function convertToInteractive(key) {\n",
              "          const element = document.querySelector('#df-394cf478-4b71-4771-8d0c-382fc05d48d6');\n",
              "          const dataTable =\n",
              "            await google.colab.kernel.invokeFunction('convertToInteractive',\n",
              "                                                     [key], {});\n",
              "          if (!dataTable) return;\n",
              "\n",
              "          const docLinkHtml = 'Like what you see? Visit the ' +\n",
              "            '<a target=\"_blank\" href=https://colab.research.google.com/notebooks/data_table.ipynb>data table notebook</a>'\n",
              "            + ' to learn more about interactive tables.';\n",
              "          element.innerHTML = '';\n",
              "          dataTable['output_type'] = 'display_data';\n",
              "          await google.colab.output.renderOutput(dataTable, element);\n",
              "          const docLink = document.createElement('div');\n",
              "          docLink.innerHTML = docLinkHtml;\n",
              "          element.appendChild(docLink);\n",
              "        }\n",
              "      </script>\n",
              "    </div>\n",
              "  </div>\n",
              "  "
            ],
            "text/plain": [
              "        sentence_id    labels       words\n",
              "0                 0         O     Filmado\n",
              "1                 0         O          na\n",
              "2                 0         O      cidade\n",
              "3                 0         O          de\n",
              "4                 0         O        Nova\n",
              "...             ...       ...         ...\n",
              "239072        58213         O  democracia\n",
              "239073        58213         O      direta\n",
              "239074        58213         O         ter\n",
              "239075        58213  I-PERIOD     sucesso\n",
              "239076        58213         O          Se\n",
              "\n",
              "[239076 rows x 3 columns]"
            ]
          },
          "execution_count": 4,
          "metadata": {},
          "output_type": "execute_result"
        }
      ],
      "source": [
        "dataset['train']"
      ]
    },
    {
      "cell_type": "code",
      "execution_count": null,
      "metadata": {
        "colab": {
          "background_save": true,
          "base_uri": "https://localhost:8080/",
          "height": 471
        },
        "id": "3pzbbPSRE2HF",
        "outputId": "d857de31-4dda-4415-a8ef-b7344aa4dec1"
      },
      "outputs": [
        {
          "name": "stdout",
          "output_type": "stream",
          "text": [
            "Requirement already satisfied: wandb in /usr/local/lib/python3.7/dist-packages (0.12.16)\n",
            "Requirement already satisfied: requests<3,>=2.0.0 in /usr/local/lib/python3.7/dist-packages (from wandb) (2.23.0)\n",
            "Requirement already satisfied: setproctitle in /usr/local/lib/python3.7/dist-packages (from wandb) (1.2.3)\n",
            "Requirement already satisfied: docker-pycreds>=0.4.0 in /usr/local/lib/python3.7/dist-packages (from wandb) (0.4.0)\n",
            "Requirement already satisfied: promise<3,>=2.0 in /usr/local/lib/python3.7/dist-packages (from wandb) (2.3)\n",
            "Requirement already satisfied: shortuuid>=0.5.0 in /usr/local/lib/python3.7/dist-packages (from wandb) (1.0.9)\n",
            "Requirement already satisfied: protobuf>=3.12.0 in /usr/local/lib/python3.7/dist-packages (from wandb) (3.17.3)\n",
            "Requirement already satisfied: setuptools in /usr/local/lib/python3.7/dist-packages (from wandb) (57.4.0)\n",
            "Requirement already satisfied: six>=1.13.0 in /usr/local/lib/python3.7/dist-packages (from wandb) (1.15.0)\n",
            "Requirement already satisfied: PyYAML in /usr/local/lib/python3.7/dist-packages (from wandb) (6.0)\n",
            "Requirement already satisfied: psutil>=5.0.0 in /usr/local/lib/python3.7/dist-packages (from wandb) (5.4.8)\n",
            "Requirement already satisfied: Click!=8.0.0,>=7.0 in /usr/local/lib/python3.7/dist-packages (from wandb) (7.1.2)\n",
            "Requirement already satisfied: sentry-sdk>=1.0.0 in /usr/local/lib/python3.7/dist-packages (from wandb) (1.5.12)\n",
            "Requirement already satisfied: python-dateutil>=2.6.1 in /usr/local/lib/python3.7/dist-packages (from wandb) (2.8.2)\n",
            "Requirement already satisfied: GitPython>=1.0.0 in /usr/local/lib/python3.7/dist-packages (from wandb) (3.1.27)\n",
            "Requirement already satisfied: pathtools in /usr/local/lib/python3.7/dist-packages (from wandb) (0.1.2)\n",
            "Requirement already satisfied: typing-extensions>=3.7.4.3 in /usr/local/lib/python3.7/dist-packages (from GitPython>=1.0.0->wandb) (4.2.0)\n",
            "Requirement already satisfied: gitdb<5,>=4.0.1 in /usr/local/lib/python3.7/dist-packages (from GitPython>=1.0.0->wandb) (4.0.9)\n",
            "Requirement already satisfied: smmap<6,>=3.0.1 in /usr/local/lib/python3.7/dist-packages (from gitdb<5,>=4.0.1->GitPython>=1.0.0->wandb) (5.0.0)\n",
            "Requirement already satisfied: urllib3!=1.25.0,!=1.25.1,<1.26,>=1.21.1 in /usr/local/lib/python3.7/dist-packages (from requests<3,>=2.0.0->wandb) (1.25.11)\n",
            "Requirement already satisfied: chardet<4,>=3.0.2 in /usr/local/lib/python3.7/dist-packages (from requests<3,>=2.0.0->wandb) (3.0.4)\n",
            "Requirement already satisfied: idna<3,>=2.5 in /usr/local/lib/python3.7/dist-packages (from requests<3,>=2.0.0->wandb) (2.10)\n",
            "Requirement already satisfied: certifi>=2017.4.17 in /usr/local/lib/python3.7/dist-packages (from requests<3,>=2.0.0->wandb) (2021.10.8)\n"
          ]
        },
        {
          "name": "stderr",
          "output_type": "stream",
          "text": [
            "Failed to detect the name of this notebook, you can set it manually with the WANDB_NOTEBOOK_NAME environment variable to enable code saving.\n"
          ]
        },
        {
          "data": {
            "application/javascript": [
              "\n",
              "        window._wandbApiKey = new Promise((resolve, reject) => {\n",
              "            function loadScript(url) {\n",
              "            return new Promise(function(resolve, reject) {\n",
              "                let newScript = document.createElement(\"script\");\n",
              "                newScript.onerror = reject;\n",
              "                newScript.onload = resolve;\n",
              "                document.body.appendChild(newScript);\n",
              "                newScript.src = url;\n",
              "            });\n",
              "            }\n",
              "            loadScript(\"https://cdn.jsdelivr.net/npm/postmate/build/postmate.min.js\").then(() => {\n",
              "            const iframe = document.createElement('iframe')\n",
              "            iframe.style.cssText = \"width:0;height:0;border:none\"\n",
              "            document.body.appendChild(iframe)\n",
              "            const handshake = new Postmate({\n",
              "                container: iframe,\n",
              "                url: 'https://wandb.ai/authorize'\n",
              "            });\n",
              "            const timeout = setTimeout(() => reject(\"Couldn't auto authenticate\"), 5000)\n",
              "            handshake.then(function(child) {\n",
              "                child.on('authorize', data => {\n",
              "                    clearTimeout(timeout)\n",
              "                    resolve(data)\n",
              "                });\n",
              "            });\n",
              "            })\n",
              "        });\n",
              "    "
            ],
            "text/plain": [
              "<IPython.core.display.Javascript object>"
            ]
          },
          "metadata": {},
          "output_type": "display_data"
        }
      ],
      "source": [
        "!pip install wandb\n",
        "\n",
        "import wandb\n",
        "wandb.login()"
      ]
    },
    {
      "cell_type": "code",
      "execution_count": null,
      "metadata": {
        "id": "wSMxSkKbg6hk"
      },
      "outputs": [],
      "source": [
        "from simpletransformers.ner import NERModel, NERArgs\n",
        "import torch\n",
        "import wandb\n",
        "\n",
        "# Create a new run\n",
        "with wandb.init(project=\"bert-base-cased-ner\") as run:\n",
        "\n",
        "  # Connect an Artifact to the run\n",
        "  model_name = \"neuralmind/bert-base-portuguese-cased\"\n",
        "  #my_model_artifact = run.use_artifact(my_model_name)\n",
        "\n",
        "  # Download model weights to a folder and return the path\n",
        "  #model_dir = my_model_artifact.download()\n",
        "  train_args = {\n",
        "      'evaluate_during_training': True,\n",
        "      'logging_steps': 10,\n",
        "      'num_train_epochs': 15,\n",
        "      'evaluate_during_training_steps': 5,\n",
        "      'save_eval_checkpoints': False,\n",
        "      'train_batch_size': 16,\n",
        "      'eval_batch_size': 8,\n",
        "      'overwrite_output_dir': True,\n",
        "      'labels_list':dataset['train'].labels.unique().tolist(),\n",
        "      'use_early_stopping':True\n",
        "  }\n",
        "\n",
        "\n",
        "  model = NERModel(\n",
        "      \"bert\",\n",
        "      model_name,\n",
        "      args=train_args,\n",
        "      use_cuda=torch.cuda.is_available()\n",
        "  )\n",
        "  model.train_model(dataset['train'], eval_data=dataset['val'])\n",
        "  result, model_outputs, wrong_preds = model.eval_model(dataset['val'])\n",
        "\n",
        "  pd.DataFrame.from_dict(result, orient='index').T.to_csv('test_result.csv', index=False,index_label=False)\n"
      ]
    },
    {
      "cell_type": "code",
      "execution_count": null,
      "metadata": {
        "id": "d562MXRBc0D1"
      },
      "outputs": [],
      "source": [
        "path_to_dataset = '/content/drive/Shareddrives/MEC - Correção textual/PLN/Dataset/redacoes_mec_transcritas_atualizado.csv'\n",
        "\n",
        "students_df = pd.read_csv(path_to_dataset)\n",
        "students_df.head()"
      ]
    },
    {
      "cell_type": "code",
      "execution_count": null,
      "metadata": {
        "id": "FiAqC5kYdlZ7"
      },
      "outputs": [],
      "source": [
        "import re\n",
        "students_texts = students_df.texto.apply(lambda text: re.sub(r'[.,?]', '', text).lower()).tolist()"
      ]
    },
    {
      "cell_type": "code",
      "execution_count": null,
      "metadata": {
        "id": "0URtWf-iYBb8"
      },
      "outputs": [],
      "source": [
        "predictions, raw_outputs = model.predict(students_texts)\n"
      ]
    },
    {
      "cell_type": "code",
      "execution_count": null,
      "metadata": {
        "id": "MkiXoMNHYaFF"
      },
      "outputs": [],
      "source": [
        "new_pred = []\n",
        "for i,pred in enumerate(predictions, 1):\n",
        "    for item in pred:\n",
        "        new_pred.append([i, tuple(item.items())[0][0], tuple(item.items())[0][1]])"
      ]
    },
    {
      "cell_type": "code",
      "execution_count": null,
      "metadata": {
        "id": "lIMWZN1EaFIt"
      },
      "outputs": [],
      "source": [
        "pred_df = pd.DataFrame(new_pred, columns=['sentence_id', 'words', 'labels'])\n",
        "\n",
        "pred_df.to_csv('pred_df.csv', index=False, index_label=False)"
      ]
    },
    {
      "cell_type": "code",
      "execution_count": null,
      "metadata": {
        "id": "CTJJNJS2GXgP"
      },
      "outputs": [],
      "source": [
        "import spacy\n",
        "from spacy import displacy"
      ]
    },
    {
      "cell_type": "code",
      "execution_count": null,
      "metadata": {
        "id": "GdTXW5D-Pp9Q"
      },
      "outputs": [],
      "source": [
        "path_to_dataset = '/content/drive/Shareddrives/MEC - Correção textual/PLN/Dataset/'\n"
      ]
    },
    {
      "cell_type": "code",
      "execution_count": null,
      "metadata": {
        "id": "EUZF4twF9itX"
      },
      "outputs": [],
      "source": [
        "import pandas as pd\n",
        "import re \n",
        "\n",
        "pred_df = pd.read_csv('pred_df.csv')\n",
        "label2dict = {\"COMMA\":\",\",\"PERIOD\": \".\", \"QUESTION\":\"?\"}\n",
        "ents = []\n",
        "for id, group in pred_df.groupby(\"sentence_id\"):\n",
        "  text = \" \".join(group.words)\n",
        "  #print(text)\n",
        "  ent = {\n",
        "            \"text\":text,\n",
        "             \"ents\":[],\n",
        "             \"title\": None\n",
        "   }\n",
        "  for i, label in enumerate(group.labels):\n",
        "      #print(group.words)\n",
        "      if label != \"O\":\n",
        "      \n",
        "        matching_word = group.words.tolist()[i]\n",
        "        #print(matching_word)\n",
        "        matching_word = re.sub(r'\\(', '\\(', matching_word)\n",
        "        matching_word = re.sub(r'\\)', '\\)', matching_word)\n",
        "        \n",
        "       \n",
        "        match = re.search(matching_word, text)\n",
        "        ent[\"ents\"].append({\n",
        "            \"start\":match.start(),\n",
        "            \"end\":match.end(),\n",
        "            \"label\":label\n",
        "        })\n",
        "\n",
        "  ents.append(ent)\n",
        "\n",
        "  #print(\" \".join(group.labels))"
      ]
    },
    {
      "cell_type": "code",
      "execution_count": null,
      "metadata": {
        "id": "_ZOAHE9ZGZ1t"
      },
      "outputs": [],
      "source": [
        "\n",
        "displacy.render([ents[2]], style=\"ent\", manual=True, jupyter=True)"
      ]
    },
    {
      "cell_type": "code",
      "execution_count": null,
      "metadata": {
        "id": "_MZprI6tq7I2"
      },
      "outputs": [],
      "source": [
        "!zip model-15.zip -r outputs/checkpoint-7725-epoch-15/"
      ]
    },
    {
      "cell_type": "code",
      "execution_count": null,
      "metadata": {
        "id": "tm1VB7hikf66"
      },
      "outputs": [],
      "source": [
        "!cp model-15.zip '/content/drive/Shareddrives/MEC - Correção textual/PLN/Notebooks/Pontuação/model-15.zip'"
      ]
    }
  ],
  "metadata": {
    "accelerator": "GPU",
    "colab": {
      "collapsed_sections": [],
      "name": "BertPunctuator.ipynb",
      "provenance": []
    },
    "kernelspec": {
      "display_name": "Python 3",
      "name": "python3"
    },
    "language_info": {
      "name": "python"
    }
  },
  "nbformat": 4,
  "nbformat_minor": 0
}