{
 "cells": [
  {
   "cell_type": "code",
   "execution_count": null,
   "metadata": {},
   "outputs": [],
   "source": [
    "!pip install pandas\n",
    "!pip install spacy==3.2.4\n",
    "!pip install plac"
   ]
  },
  {
   "cell_type": "code",
   "execution_count": 1,
   "metadata": {
    "id": "UryltWoGnkiP"
   },
   "outputs": [],
   "source": [
    "from __future__ import unicode_literals, print_function\n",
    "import plac\n",
    "import random\n",
    "from pathlib import Path\n",
    "import spacy\n",
    "from tqdm import tqdm"
   ]
  },
  {
   "cell_type": "code",
   "execution_count": 24,
   "metadata": {
    "colab": {
     "base_uri": "https://localhost:8080/"
    },
    "executionInfo": {
     "elapsed": 2102,
     "status": "ok",
     "timestamp": 1652980394418,
     "user": {
      "displayName": "TIAGO LIMA",
      "userId": "06048728324802035296"
     },
     "user_tz": 180
    },
    "id": "uoE7xfYlqBDC",
    "outputId": "e2a6ac2f-a32e-4054-ef2e-10b5b1486a1a"
   },
   "outputs": [
    {
     "name": "stdout",
     "output_type": "stream",
     "text": [
      "301 Moved Permanently\n",
      "The resource has been moved to /s/dl/sukruo2u3tiq5fr/punct-data.zip;\n",
      "you should be redirected automatically.\n",
      "\n",
      "\n"
     ]
    },
    {
     "name": "stderr",
     "output_type": "stream",
     "text": [
      "  % Total    % Received % Xferd  Average Speed   Time    Time     Time  Current\n",
      "                                 Dload  Upload   Total   Spent    Left  Speed\n",
      "\n",
      "  0     0    0     0    0     0      0      0 --:--:-- --:--:-- --:--:--     0\n",
      "100   138    0   138    0     0    282      0 --:--:-- --:--:-- --:--:--   282\n",
      "100   138    0   138    0     0    281      0 --:--:-- --:--:-- --:--:--   282\n",
      "  % Total    % Received % Xferd  Average Speed   Time    Time     Time  Current\n",
      "                                 Dload  Upload   Total   Spent    Left  Speed\n",
      "\n",
      "  0     0    0     0    0     0      0      0 --:--:-- --:--:-- --:--:--     0curl: (6) Could not resolve host: punct_data.zip\n"
     ]
    }
   ],
   "source": [
    "!curl  https://www.dropbox.com/s/sukruo2u3tiq5fr/punct-data.zip?dl=1  punct_data.zip"
   ]
  },
  {
   "cell_type": "code",
   "execution_count": 11,
   "metadata": {
    "colab": {
     "base_uri": "https://localhost:8080/"
    },
    "executionInfo": {
     "elapsed": 299,
     "status": "ok",
     "timestamp": 1652980394708,
     "user": {
      "displayName": "TIAGO LIMA",
      "userId": "06048728324802035296"
     },
     "user_tz": 180
    },
    "id": "LdA_bf3R1zf9",
    "outputId": "fc15962e-2ae0-46b0-82ac-7c0dfd3df61a"
   },
   "outputs": [
    {
     "name": "stderr",
     "output_type": "stream",
     "text": [
      "'rm' n�o � reconhecido como um comando interno\n",
      "ou externo, um programa oper�vel ou um arquivo em lotes.\n"
     ]
    }
   ],
   "source": [
    "!rm -r punct-data/"
   ]
  },
  {
   "cell_type": "code",
   "execution_count": 25,
   "metadata": {
    "colab": {
     "base_uri": "https://localhost:8080/"
    },
    "executionInfo": {
     "elapsed": 1184,
     "status": "ok",
     "timestamp": 1652980395884,
     "user": {
      "displayName": "TIAGO LIMA",
      "userId": "06048728324802035296"
     },
     "user_tz": 180
    },
    "id": "Fh4-8BoJq9yQ",
    "outputId": "6246e148-2652-4bb0-e159-b7ba9b6f5231"
   },
   "outputs": [],
   "source": [
    "!tar -xf punct-data.zip"
   ]
  },
  {
   "cell_type": "code",
   "execution_count": 32,
   "metadata": {
    "id": "2FJVjpirVagi"
   },
   "outputs": [],
   "source": [
    "from collections import Counter\n",
    "import pandas as pd\n",
    "import re \n",
    "from collections import defaultdict\n",
    "from spacy.matcher import Matcher\n",
    "from spacy.tokens import Span\n",
    "from tqdm import tqdm\n",
    "import spacy"
   ]
  },
  {
   "cell_type": "code",
   "execution_count": 33,
   "metadata": {
    "id": "Gu4yLh-gVSoc"
   },
   "outputs": [],
   "source": [
    "nlp = spacy.blank('pt')"
   ]
  },
  {
   "cell_type": "code",
   "execution_count": 36,
   "metadata": {
    "colab": {
     "base_uri": "https://localhost:8080/",
     "output_embedded_package_id": "1vtkFCQgSKVw70IulkqtqvtpxHMAud82-"
    },
    "executionInfo": {
     "elapsed": 27883,
     "status": "ok",
     "timestamp": 1652981310307,
     "user": {
      "displayName": "TIAGO LIMA",
      "userId": "06048728324802035296"
     },
     "user_tz": 180
    },
    "id": "6wgOmnATqKGk",
    "outputId": "ac7f7f98-b5ff-4b75-b053-c961b7e66c64"
   },
   "outputs": [
    {
     "name": "stderr",
     "output_type": "stream",
     "text": [
      "100%|██████████| 4072/4072 [00:04<00:00, 910.13it/s] \n"
     ]
    }
   ],
   "source": [
    "def preprocess_data(dataframe):\n",
    "     \n",
    "\n",
    "    TOTAL = len(list(dataframe.groupby(\"sentence_id\")))\n",
    "    data = []\n",
    "    for _, group in tqdm(dataframe.groupby(\"sentence_id\"), total=TOTAL):\n",
    "        text = \" \".join(group.words)\n",
    "        doc = nlp.make_doc(text)\n",
    "        ents = []\n",
    "        count_dict = defaultdict(lambda : 0)\n",
    "        for i, label in enumerate(group.labels):\n",
    "            if label != \"O\":\n",
    "                matching_word = group.words.tolist()[i]\n",
    "                span = Span(doc, i, i+1, label=label)\n",
    "                ents.append((span.start_char, span.end_char, label.replace('I-','')))\n",
    "                count_dict[matching_word] += 1\n",
    "        ent = (text, {\n",
    "            'entities': ents\n",
    "        })\n",
    "        data.append(ent)\n",
    "    return data"
   ]
  },
  {
   "cell_type": "code",
   "execution_count": 38,
   "metadata": {
    "executionInfo": {
     "elapsed": 22,
     "status": "ok",
     "timestamp": 1652981310310,
     "user": {
      "displayName": "TIAGO LIMA",
      "userId": "06048728324802035296"
     },
     "user_tz": 180
    },
    "id": "rZUhkeLqq19m"
   },
   "outputs": [],
   "source": [
    "import pickle\n",
    "\n",
    "import pickle\n",
    "train_df = pd.read_csv('./punct-data/train.csv').dropna()\n",
    "TRAIN_DATA = preprocess_data(train_df)\n",
    "\n",
    "\n",
    "with open('punct.pickle', 'wb') as handle:\n",
    "    pickle.dump(TRAIN_DATA, handle, protocol=pickle.HIGHEST_PROTOCOL)"
   ]
  },
  {
   "cell_type": "code",
   "execution_count": 42,
   "metadata": {},
   "outputs": [
    {
     "data": {
      "text/plain": [
       "[('filmado na cidade de nova york exibido pela primeira vez no ted2018 sou um imigrante da uganda vivendo nos estados unidos enquanto espero a aprovação do meu pedido de asilo',\n",
       "  {'entities': [(167, 172, 'PERIOD')]})]"
      ]
     },
     "execution_count": 42,
     "metadata": {},
     "output_type": "execute_result"
    }
   ],
   "source": [
    "with open('filename.pickle', 'rb') as handle:\n",
    "    TRAIN_DATA = pickle.load(handle)\n",
    "TRAIN_DATA[:1]"
   ]
  },
  {
   "cell_type": "code",
   "execution_count": null,
   "metadata": {
    "colab": {
     "base_uri": "https://localhost:8080/",
     "height": 990
    },
    "executionInfo": {
     "elapsed": 0,
     "status": "ok",
     "timestamp": 1652981312826,
     "user": {
      "displayName": "TIAGO LIMA",
      "userId": "06048728324802035296"
     },
     "user_tz": 180
    },
    "id": "eNH1moC3MKQI",
    "outputId": "a9b54ad5-1052-4057-fa78-cd8e70622e50"
   },
   "outputs": [
    {
     "data": {
      "text/html": [
       "\n",
       "  <div id=\"df-92061c63-77c7-48fb-b7bc-e070f0debd7f\">\n",
       "    <div class=\"colab-df-container\">\n",
       "      <div>\n",
       "<style scoped>\n",
       "    .dataframe tbody tr th:only-of-type {\n",
       "        vertical-align: middle;\n",
       "    }\n",
       "\n",
       "    .dataframe tbody tr th {\n",
       "        vertical-align: top;\n",
       "    }\n",
       "\n",
       "    .dataframe thead th {\n",
       "        text-align: right;\n",
       "    }\n",
       "</style>\n",
       "<table border=\"1\" class=\"dataframe\">\n",
       "  <thead>\n",
       "    <tr style=\"text-align: right;\">\n",
       "      <th></th>\n",
       "      <th>sentence_id</th>\n",
       "      <th>labels</th>\n",
       "      <th>words</th>\n",
       "    </tr>\n",
       "  </thead>\n",
       "  <tbody>\n",
       "    <tr>\n",
       "      <th>0</th>\n",
       "      <td>0</td>\n",
       "      <td>O</td>\n",
       "      <td>filmado</td>\n",
       "    </tr>\n",
       "    <tr>\n",
       "      <th>1</th>\n",
       "      <td>0</td>\n",
       "      <td>O</td>\n",
       "      <td>na</td>\n",
       "    </tr>\n",
       "    <tr>\n",
       "      <th>2</th>\n",
       "      <td>0</td>\n",
       "      <td>O</td>\n",
       "      <td>cidade</td>\n",
       "    </tr>\n",
       "    <tr>\n",
       "      <th>3</th>\n",
       "      <td>0</td>\n",
       "      <td>O</td>\n",
       "      <td>de</td>\n",
       "    </tr>\n",
       "    <tr>\n",
       "      <th>4</th>\n",
       "      <td>0</td>\n",
       "      <td>O</td>\n",
       "      <td>nova</td>\n",
       "    </tr>\n",
       "    <tr>\n",
       "      <th>5</th>\n",
       "      <td>0</td>\n",
       "      <td>O</td>\n",
       "      <td>york</td>\n",
       "    </tr>\n",
       "    <tr>\n",
       "      <th>6</th>\n",
       "      <td>0</td>\n",
       "      <td>O</td>\n",
       "      <td>exibido</td>\n",
       "    </tr>\n",
       "    <tr>\n",
       "      <th>7</th>\n",
       "      <td>0</td>\n",
       "      <td>O</td>\n",
       "      <td>pela</td>\n",
       "    </tr>\n",
       "    <tr>\n",
       "      <th>8</th>\n",
       "      <td>0</td>\n",
       "      <td>O</td>\n",
       "      <td>primeira</td>\n",
       "    </tr>\n",
       "    <tr>\n",
       "      <th>9</th>\n",
       "      <td>0</td>\n",
       "      <td>O</td>\n",
       "      <td>vez</td>\n",
       "    </tr>\n",
       "    <tr>\n",
       "      <th>10</th>\n",
       "      <td>0</td>\n",
       "      <td>O</td>\n",
       "      <td>no</td>\n",
       "    </tr>\n",
       "    <tr>\n",
       "      <th>11</th>\n",
       "      <td>0</td>\n",
       "      <td>O</td>\n",
       "      <td>ted2018</td>\n",
       "    </tr>\n",
       "    <tr>\n",
       "      <th>12</th>\n",
       "      <td>0</td>\n",
       "      <td>O</td>\n",
       "      <td>sou</td>\n",
       "    </tr>\n",
       "    <tr>\n",
       "      <th>13</th>\n",
       "      <td>0</td>\n",
       "      <td>O</td>\n",
       "      <td>um</td>\n",
       "    </tr>\n",
       "    <tr>\n",
       "      <th>14</th>\n",
       "      <td>0</td>\n",
       "      <td>O</td>\n",
       "      <td>imigrante</td>\n",
       "    </tr>\n",
       "    <tr>\n",
       "      <th>15</th>\n",
       "      <td>0</td>\n",
       "      <td>O</td>\n",
       "      <td>da</td>\n",
       "    </tr>\n",
       "    <tr>\n",
       "      <th>16</th>\n",
       "      <td>0</td>\n",
       "      <td>O</td>\n",
       "      <td>uganda</td>\n",
       "    </tr>\n",
       "    <tr>\n",
       "      <th>17</th>\n",
       "      <td>0</td>\n",
       "      <td>O</td>\n",
       "      <td>vivendo</td>\n",
       "    </tr>\n",
       "    <tr>\n",
       "      <th>18</th>\n",
       "      <td>0</td>\n",
       "      <td>O</td>\n",
       "      <td>nos</td>\n",
       "    </tr>\n",
       "    <tr>\n",
       "      <th>19</th>\n",
       "      <td>0</td>\n",
       "      <td>O</td>\n",
       "      <td>estados</td>\n",
       "    </tr>\n",
       "    <tr>\n",
       "      <th>20</th>\n",
       "      <td>0</td>\n",
       "      <td>O</td>\n",
       "      <td>unidos</td>\n",
       "    </tr>\n",
       "    <tr>\n",
       "      <th>21</th>\n",
       "      <td>0</td>\n",
       "      <td>O</td>\n",
       "      <td>enquanto</td>\n",
       "    </tr>\n",
       "    <tr>\n",
       "      <th>22</th>\n",
       "      <td>0</td>\n",
       "      <td>O</td>\n",
       "      <td>espero</td>\n",
       "    </tr>\n",
       "    <tr>\n",
       "      <th>23</th>\n",
       "      <td>0</td>\n",
       "      <td>O</td>\n",
       "      <td>a</td>\n",
       "    </tr>\n",
       "    <tr>\n",
       "      <th>24</th>\n",
       "      <td>0</td>\n",
       "      <td>O</td>\n",
       "      <td>aprovação</td>\n",
       "    </tr>\n",
       "    <tr>\n",
       "      <th>25</th>\n",
       "      <td>0</td>\n",
       "      <td>O</td>\n",
       "      <td>do</td>\n",
       "    </tr>\n",
       "    <tr>\n",
       "      <th>26</th>\n",
       "      <td>0</td>\n",
       "      <td>O</td>\n",
       "      <td>meu</td>\n",
       "    </tr>\n",
       "    <tr>\n",
       "      <th>27</th>\n",
       "      <td>0</td>\n",
       "      <td>O</td>\n",
       "      <td>pedido</td>\n",
       "    </tr>\n",
       "    <tr>\n",
       "      <th>28</th>\n",
       "      <td>0</td>\n",
       "      <td>O</td>\n",
       "      <td>de</td>\n",
       "    </tr>\n",
       "    <tr>\n",
       "      <th>29</th>\n",
       "      <td>0</td>\n",
       "      <td>PERIOD</td>\n",
       "      <td>asilo</td>\n",
       "    </tr>\n",
       "  </tbody>\n",
       "</table>\n",
       "</div>\n",
       "      <button class=\"colab-df-convert\" onclick=\"convertToInteractive('df-92061c63-77c7-48fb-b7bc-e070f0debd7f')\"\n",
       "              title=\"Convert this dataframe to an interactive table.\"\n",
       "              style=\"display:none;\">\n",
       "        \n",
       "  <svg xmlns=\"http://www.w3.org/2000/svg\" height=\"24px\"viewBox=\"0 0 24 24\"\n",
       "       width=\"24px\">\n",
       "    <path d=\"M0 0h24v24H0V0z\" fill=\"none\"/>\n",
       "    <path d=\"M18.56 5.44l.94 2.06.94-2.06 2.06-.94-2.06-.94-.94-2.06-.94 2.06-2.06.94zm-11 1L8.5 8.5l.94-2.06 2.06-.94-2.06-.94L8.5 2.5l-.94 2.06-2.06.94zm10 10l.94 2.06.94-2.06 2.06-.94-2.06-.94-.94-2.06-.94 2.06-2.06.94z\"/><path d=\"M17.41 7.96l-1.37-1.37c-.4-.4-.92-.59-1.43-.59-.52 0-1.04.2-1.43.59L10.3 9.45l-7.72 7.72c-.78.78-.78 2.05 0 2.83L4 21.41c.39.39.9.59 1.41.59.51 0 1.02-.2 1.41-.59l7.78-7.78 2.81-2.81c.8-.78.8-2.07 0-2.86zM5.41 20L4 18.59l7.72-7.72 1.47 1.35L5.41 20z\"/>\n",
       "  </svg>\n",
       "      </button>\n",
       "      \n",
       "  <style>\n",
       "    .colab-df-container {\n",
       "      display:flex;\n",
       "      flex-wrap:wrap;\n",
       "      gap: 12px;\n",
       "    }\n",
       "\n",
       "    .colab-df-convert {\n",
       "      background-color: #E8F0FE;\n",
       "      border: none;\n",
       "      border-radius: 50%;\n",
       "      cursor: pointer;\n",
       "      display: none;\n",
       "      fill: #1967D2;\n",
       "      height: 32px;\n",
       "      padding: 0 0 0 0;\n",
       "      width: 32px;\n",
       "    }\n",
       "\n",
       "    .colab-df-convert:hover {\n",
       "      background-color: #E2EBFA;\n",
       "      box-shadow: 0px 1px 2px rgba(60, 64, 67, 0.3), 0px 1px 3px 1px rgba(60, 64, 67, 0.15);\n",
       "      fill: #174EA6;\n",
       "    }\n",
       "\n",
       "    [theme=dark] .colab-df-convert {\n",
       "      background-color: #3B4455;\n",
       "      fill: #D2E3FC;\n",
       "    }\n",
       "\n",
       "    [theme=dark] .colab-df-convert:hover {\n",
       "      background-color: #434B5C;\n",
       "      box-shadow: 0px 1px 3px 1px rgba(0, 0, 0, 0.15);\n",
       "      filter: drop-shadow(0px 1px 2px rgba(0, 0, 0, 0.3));\n",
       "      fill: #FFFFFF;\n",
       "    }\n",
       "  </style>\n",
       "\n",
       "      <script>\n",
       "        const buttonEl =\n",
       "          document.querySelector('#df-92061c63-77c7-48fb-b7bc-e070f0debd7f button.colab-df-convert');\n",
       "        buttonEl.style.display =\n",
       "          google.colab.kernel.accessAllowed ? 'block' : 'none';\n",
       "\n",
       "        async function convertToInteractive(key) {\n",
       "          const element = document.querySelector('#df-92061c63-77c7-48fb-b7bc-e070f0debd7f');\n",
       "          const dataTable =\n",
       "            await google.colab.kernel.invokeFunction('convertToInteractive',\n",
       "                                                     [key], {});\n",
       "          if (!dataTable) return;\n",
       "\n",
       "          const docLinkHtml = 'Like what you see? Visit the ' +\n",
       "            '<a target=\"_blank\" href=https://colab.research.google.com/notebooks/data_table.ipynb>data table notebook</a>'\n",
       "            + ' to learn more about interactive tables.';\n",
       "          element.innerHTML = '';\n",
       "          dataTable['output_type'] = 'display_data';\n",
       "          await google.colab.output.renderOutput(dataTable, element);\n",
       "          const docLink = document.createElement('div');\n",
       "          docLink.innerHTML = docLinkHtml;\n",
       "          element.appendChild(docLink);\n",
       "        }\n",
       "      </script>\n",
       "    </div>\n",
       "  </div>\n",
       "  "
      ],
      "text/plain": [
       "    sentence_id  labels      words\n",
       "0             0       O    filmado\n",
       "1             0       O         na\n",
       "2             0       O     cidade\n",
       "3             0       O         de\n",
       "4             0       O       nova\n",
       "5             0       O       york\n",
       "6             0       O    exibido\n",
       "7             0       O       pela\n",
       "8             0       O   primeira\n",
       "9             0       O        vez\n",
       "10            0       O         no\n",
       "11            0       O    ted2018\n",
       "12            0       O        sou\n",
       "13            0       O         um\n",
       "14            0       O  imigrante\n",
       "15            0       O         da\n",
       "16            0       O     uganda\n",
       "17            0       O    vivendo\n",
       "18            0       O        nos\n",
       "19            0       O    estados\n",
       "20            0       O     unidos\n",
       "21            0       O   enquanto\n",
       "22            0       O     espero\n",
       "23            0       O          a\n",
       "24            0       O  aprovação\n",
       "25            0       O         do\n",
       "26            0       O        meu\n",
       "27            0       O     pedido\n",
       "28            0       O         de\n",
       "29            0  PERIOD      asilo"
      ]
     },
     "execution_count": null,
     "metadata": {},
     "output_type": "execute_result"
    }
   ],
   "source": [
    "train_df.loc[train_df['sentence_id']==0,]"
   ]
  },
  {
   "cell_type": "code",
   "execution_count": null,
   "metadata": {
    "colab": {
     "base_uri": "https://localhost:8080/"
    },
    "executionInfo": {
     "elapsed": 0,
     "status": "ok",
     "timestamp": 1652981312241,
     "user": {
      "displayName": "TIAGO LIMA",
      "userId": "06048728324802035296"
     },
     "user_tz": 180
    },
    "id": "sRJkhqvFtWYF",
    "outputId": "f76502fa-6128-4184-8285-733f6256b516"
   },
   "outputs": [
    {
     "data": {
      "text/plain": [
       "[('mas também demonstra o que costuma faltar no debate global sobre refugiados migrantes e imigrantes as vozes daqueles desfavorecidos os cidadãos de muitos países anfitriões até mesmo daqueles que acolhiam os recém chegados estão preocupados com o aumento do número de indivíduos chegando aos seus países a primeira crítica é que os recém chegados prejudicam a estabilidade do bem estar social e dos níveis de emprego em seus países cidadãos inseguros e céticos olham para os políticos que competem entre si para ver quem ganha o prêmio de voz mais alta do populismo e do nacionalismo é uma competição entre quem é o mais duro com os migrantes quem é mais propenso a impor proibições de viagem e quem é o mais ansioso em propor projetos de construção de muros',\n",
       "  {'entities': [(65, 75, 'COMMA'),\n",
       "    (88, 98, 'COMMA'),\n",
       "    (117, 131, 'PERIOD'),\n",
       "    (161, 171, 'COMMA'),\n",
       "    (213, 221, 'COMMA'),\n",
       "    (296, 302, 'PERIOD'),\n",
       "    (424, 430, 'PERIOD'),\n",
       "    (570, 582, 'PERIOD'),\n",
       "    (632, 641, 'COMMA'),\n",
       "    (752, 757, 'PERIOD')]})]"
      ]
     },
     "execution_count": null,
     "metadata": {},
     "output_type": "execute_result"
    }
   ],
   "source": [
    "TRAIN_DATA[2:3]"
   ]
  },
  {
   "cell_type": "code",
   "execution_count": null,
   "metadata": {
    "colab": {
     "base_uri": "https://localhost:8080/"
    },
    "executionInfo": {
     "elapsed": 0,
     "status": "ok",
     "timestamp": 1652981312244,
     "user": {
      "displayName": "TIAGO LIMA",
      "userId": "06048728324802035296"
     },
     "user_tz": 180
    },
    "id": "GDFWEksqsttc",
    "outputId": "adfd06f4-9382-444b-84e5-1ba93e5fade3"
   },
   "outputs": [
    {
     "data": {
      "text/plain": [
       "[('filmado na cidade de nova york exibido pela primeira vez no ted2018 sou um imigrante da uganda vivendo nos estados unidos enquanto espero a aprovação do meu pedido de asilo',\n",
       "  {'entities': [(167, 172, 'PERIOD')]})]"
      ]
     },
     "execution_count": null,
     "metadata": {},
     "output_type": "execute_result"
    }
   ],
   "source": [
    "TRAIN_DATA[:1]"
   ]
  },
  {
   "cell_type": "code",
   "execution_count": null,
   "metadata": {
    "colab": {
     "base_uri": "https://localhost:8080/"
    },
    "id": "Lq__aVsIvhdu",
    "outputId": "195f19b6-1dd2-4829-b07e-2f0f852c4fc0"
   },
   "outputs": [
    {
     "name": "stdout",
     "output_type": "stream",
     "text": [
      "Loaded model 'pt_core_news_md'\n",
      "Starting iterations 0\n"
     ]
    }
   ],
   "source": [
    "from spacy.tokens import Doc\n",
    "from spacy.training import Example\n",
    "#import spacy_transformers\n",
    "\n",
    "\n",
    "def train_spacy(data, iterations=10, model=\"pt_core_news_md\"):\n",
    "    TRAIN_DATA = data\n",
    "\n",
    "    # nlp = spacy.blank(\"en\")  # start with a blank model\n",
    "\n",
    "    if model is not None:\n",
    "      nlp = spacy.load(model)\n",
    "      print(\"Loaded model '%s'\" % model)\n",
    "    else:\n",
    "        nlp = spacy.blank('pt')  \n",
    "        print(\"Created blank 'pt' model\")\n",
    "\n",
    "    #set up the pipeline\n",
    "\n",
    "    if 'ner' not in nlp.pipe_names:\n",
    "        #ner = nlp.create_pipe('ner')\n",
    "        nlp.add_pipe('ner', last=True)\n",
    "    else:\n",
    "        ner = nlp.get_pipe('ner')\n",
    "    \n",
    "\n",
    "    if \"ner\" not in nlp.pipe_names:\n",
    "        ner = nlp.add_pipe(\"ner\", last=True)\n",
    "    else:\n",
    "        ner = nlp.get_pipe(\"ner\")\n",
    "\n",
    "    for _, annotations in TRAIN_DATA:\n",
    "        for ent in annotations.get(\"entities\"):\n",
    "            ner.add_label(ent[2])\n",
    "\n",
    "    # Init loss\n",
    "    losses = None\n",
    "\n",
    "    # Init and configure optimizer\n",
    "    optimizer = nlp.create_optimizer()\n",
    "    optimizer.learn_rate = 0.001  # Change to some lr you prefers\n",
    "    batch_size = 32  # Choose batch size you prefers\n",
    "\n",
    "    for itn in range(iterations):\n",
    "        print(\"Starting iterations \" + str(itn))\n",
    "        random.shuffle(TRAIN_DATA)\n",
    "        losses = {}\n",
    "\n",
    "        # Batch the examples and iterate over them\n",
    "        for batch in spacy.util.minibatch(TRAIN_DATA, size=batch_size):\n",
    "            # Create Example instance for each training example in mini batch\n",
    "            #print(annotations)\n",
    "            examples = [Example.from_dict(nlp.make_doc(text), annotations) for text, annotations in batch]\n",
    "            # Update model with mini batch\n",
    "            \n",
    "            losses = nlp.update(examples, drop=0.2, sgd=optimizer)\n",
    "\n",
    "    print(losses)\n",
    "    return nlp"
   ]
  },
  {
   "cell_type": "code",
   "execution_count": null,
   "metadata": {
    "id": "Y6MQHF8j3owK"
   },
   "outputs": [],
   "source": [
    "test_df = pd.read_csv('./punct-data/train.csv').dropna()\n",
    "label2dict = {\"COMMA\":\",\",\"PERIOD\": \".\", \"QUESTION\":\"?\"}\n",
    "TOTAL = len(list(test_df.groupby(\"sentence_id\")))"
   ]
  },
  {
   "cell_type": "code",
   "execution_count": null,
   "metadata": {
    "id": "jLX3Bmj7TXxb"
   },
   "outputs": [],
   "source": [
    "\n",
    "examples = []\n",
    "for text, entities in TEST_DATA:\n",
    "    doc = nlp(text)\n",
    "    \n",
    "    #print(doc.ents[0].start_char,doc.ents[0].end)\n",
    "    #print(doc.char_span(ent.start, ent.end))\n",
    "    \n",
    "    example = Example.from_dict(doc, entities)\n",
    "    examples.append(example)\n",
    "    \n",
    "    #print('Entities', [(ent.text, ent.label_) for ent in doc.ents])"
   ]
  },
  {
   "cell_type": "code",
   "execution_count": null,
   "metadata": {
    "id": "HTKf8KP7y5G3"
   },
   "outputs": [],
   "source": [
    "from spacy.scorer import Scorer\n",
    "scorer = Scorer(nlp)\n",
    "scores = Scorer.score_spans(examples, \"ents\")\n",
    "print(scores[\"ents_f\"])"
   ]
  },
  {
   "cell_type": "code",
   "execution_count": null,
   "metadata": {
    "id": "GHHGUvKg-ceZ"
   },
   "outputs": [],
   "source": [
    "!zip ner.zip -r ner "
   ]
  },
  {
   "cell_type": "code",
   "execution_count": null,
   "metadata": {
    "id": "kVUqNiicxsp7"
   },
   "outputs": [],
   "source": [
    "scores"
   ]
  },
  {
   "cell_type": "code",
   "execution_count": null,
   "metadata": {
    "id": "P2Be_lnEoxp8"
   },
   "outputs": [],
   "source": [
    "output_dir = 'ner'\n",
    "if output_dir is not None:\n",
    "    output_dir = Path(output_dir)\n",
    "    if not output_dir.exists():\n",
    "        output_dir.mkdir()\n",
    "    nlp.to_disk(output_dir)\n",
    "    print(\"Saved model to\", output_dir)"
   ]
  }
 ],
 "metadata": {
  "colab": {
   "authorship_tag": "ABX9TyPR8nNIoJGZq1GNJRdE7nXe",
   "collapsed_sections": [],
   "mount_file_id": "1zQW6USuwCB7XjNKjD-xTM7fUSNwEb5Gi",
   "name": "Spacy-Punctuator.ipynb",
   "provenance": []
  },
  "interpreter": {
   "hash": "07956fd4d1ee88bee90da7da35110e0237ff0a8d58a32634b1f462dcfa3b0dd8"
  },
  "kernelspec": {
   "display_name": "Python 3.6.13 ('ml2')",
   "language": "python",
   "name": "python3"
  },
  "language_info": {
   "codemirror_mode": {
    "name": "ipython",
    "version": 3
   },
   "file_extension": ".py",
   "mimetype": "text/x-python",
   "name": "python",
   "nbconvert_exporter": "python",
   "pygments_lexer": "ipython3",
   "version": "3.6.13"
  }
 },
 "nbformat": 4,
 "nbformat_minor": 0
}