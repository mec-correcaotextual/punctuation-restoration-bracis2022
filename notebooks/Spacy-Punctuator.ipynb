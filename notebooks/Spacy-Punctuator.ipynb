{
  "cells": [
    {
      "cell_type": "code",
      "execution_count": 63,
      "metadata": {
        "colab": {
          "base_uri": "https://localhost:8080/"
        },
        "id": "MHS9s3XqwpGJ",
        "outputId": "3ac8b3b1-74a5-4f4e-9aa0-380b63794107"
      },
      "outputs": [
        {
          "output_type": "stream",
          "name": "stdout",
          "text": [
            "Requirement already satisfied: pandas in /usr/local/lib/python3.7/dist-packages (1.3.5)\n",
            "Requirement already satisfied: pytz>=2017.3 in /usr/local/lib/python3.7/dist-packages (from pandas) (2022.1)\n",
            "Requirement already satisfied: python-dateutil>=2.7.3 in /usr/local/lib/python3.7/dist-packages (from pandas) (2.8.2)\n",
            "Requirement already satisfied: numpy>=1.17.3 in /usr/local/lib/python3.7/dist-packages (from pandas) (1.21.6)\n",
            "Requirement already satisfied: six>=1.5 in /usr/local/lib/python3.7/dist-packages (from python-dateutil>=2.7.3->pandas) (1.15.0)\n",
            "Requirement already satisfied: spacy==3.2.4 in /usr/local/lib/python3.7/dist-packages (3.2.4)\n",
            "Requirement already satisfied: tqdm<5.0.0,>=4.38.0 in /usr/local/lib/python3.7/dist-packages (from spacy==3.2.4) (4.64.0)\n",
            "Requirement already satisfied: pathy>=0.3.5 in /usr/local/lib/python3.7/dist-packages (from spacy==3.2.4) (0.6.1)\n",
            "Requirement already satisfied: requests<3.0.0,>=2.13.0 in /usr/local/lib/python3.7/dist-packages (from spacy==3.2.4) (2.23.0)\n",
            "Requirement already satisfied: click<8.1.0 in /usr/local/lib/python3.7/dist-packages (from spacy==3.2.4) (7.1.2)\n",
            "Requirement already satisfied: cymem<2.1.0,>=2.0.2 in /usr/local/lib/python3.7/dist-packages (from spacy==3.2.4) (2.0.6)\n",
            "Requirement already satisfied: srsly<3.0.0,>=2.4.1 in /usr/local/lib/python3.7/dist-packages (from spacy==3.2.4) (2.4.3)\n",
            "Requirement already satisfied: spacy-loggers<2.0.0,>=1.0.0 in /usr/local/lib/python3.7/dist-packages (from spacy==3.2.4) (1.0.2)\n",
            "Requirement already satisfied: jinja2 in /usr/local/lib/python3.7/dist-packages (from spacy==3.2.4) (2.11.3)\n",
            "Requirement already satisfied: packaging>=20.0 in /usr/local/lib/python3.7/dist-packages (from spacy==3.2.4) (21.3)\n",
            "Requirement already satisfied: blis<0.8.0,>=0.4.0 in /usr/local/lib/python3.7/dist-packages (from spacy==3.2.4) (0.4.1)\n",
            "Requirement already satisfied: thinc<8.1.0,>=8.0.12 in /usr/local/lib/python3.7/dist-packages (from spacy==3.2.4) (8.0.16)\n",
            "Requirement already satisfied: catalogue<2.1.0,>=2.0.6 in /usr/local/lib/python3.7/dist-packages (from spacy==3.2.4) (2.0.7)\n",
            "Requirement already satisfied: spacy-legacy<3.1.0,>=3.0.8 in /usr/local/lib/python3.7/dist-packages (from spacy==3.2.4) (3.0.9)\n",
            "Requirement already satisfied: typing-extensions<4.0.0.0,>=3.7.4 in /usr/local/lib/python3.7/dist-packages (from spacy==3.2.4) (3.10.0.2)\n",
            "Requirement already satisfied: murmurhash<1.1.0,>=0.28.0 in /usr/local/lib/python3.7/dist-packages (from spacy==3.2.4) (1.0.7)\n",
            "Requirement already satisfied: preshed<3.1.0,>=3.0.2 in /usr/local/lib/python3.7/dist-packages (from spacy==3.2.4) (3.0.6)\n",
            "Requirement already satisfied: pydantic!=1.8,!=1.8.1,<1.9.0,>=1.7.4 in /usr/local/lib/python3.7/dist-packages (from spacy==3.2.4) (1.8.2)\n",
            "Requirement already satisfied: langcodes<4.0.0,>=3.2.0 in /usr/local/lib/python3.7/dist-packages (from spacy==3.2.4) (3.3.0)\n",
            "Requirement already satisfied: wasabi<1.1.0,>=0.8.1 in /usr/local/lib/python3.7/dist-packages (from spacy==3.2.4) (0.9.1)\n",
            "Requirement already satisfied: typer<0.5.0,>=0.3.0 in /usr/local/lib/python3.7/dist-packages (from spacy==3.2.4) (0.4.1)\n",
            "Requirement already satisfied: numpy>=1.15.0 in /usr/local/lib/python3.7/dist-packages (from spacy==3.2.4) (1.21.6)\n",
            "Requirement already satisfied: setuptools in /usr/local/lib/python3.7/dist-packages (from spacy==3.2.4) (57.4.0)\n",
            "Requirement already satisfied: zipp>=0.5 in /usr/local/lib/python3.7/dist-packages (from catalogue<2.1.0,>=2.0.6->spacy==3.2.4) (3.8.0)\n",
            "Requirement already satisfied: pyparsing!=3.0.5,>=2.0.2 in /usr/local/lib/python3.7/dist-packages (from packaging>=20.0->spacy==3.2.4) (3.0.9)\n",
            "Requirement already satisfied: smart-open<6.0.0,>=5.0.0 in /usr/local/lib/python3.7/dist-packages (from pathy>=0.3.5->spacy==3.2.4) (5.2.1)\n",
            "Requirement already satisfied: certifi>=2017.4.17 in /usr/local/lib/python3.7/dist-packages (from requests<3.0.0,>=2.13.0->spacy==3.2.4) (2021.10.8)\n",
            "Requirement already satisfied: chardet<4,>=3.0.2 in /usr/local/lib/python3.7/dist-packages (from requests<3.0.0,>=2.13.0->spacy==3.2.4) (3.0.4)\n",
            "Requirement already satisfied: idna<3,>=2.5 in /usr/local/lib/python3.7/dist-packages (from requests<3.0.0,>=2.13.0->spacy==3.2.4) (2.10)\n",
            "Requirement already satisfied: urllib3!=1.25.0,!=1.25.1,<1.26,>=1.21.1 in /usr/local/lib/python3.7/dist-packages (from requests<3.0.0,>=2.13.0->spacy==3.2.4) (1.24.3)\n",
            "Requirement already satisfied: MarkupSafe>=0.23 in /usr/local/lib/python3.7/dist-packages (from jinja2->spacy==3.2.4) (2.0.1)\n",
            "Requirement already satisfied: plac in /usr/local/lib/python3.7/dist-packages (1.1.3)\n",
            "Collecting pt-core-news-md==3.2.0\n",
            "  Downloading https://github.com/explosion/spacy-models/releases/download/pt_core_news_md-3.2.0/pt_core_news_md-3.2.0-py3-none-any.whl (51.5 MB)\n",
            "\u001b[K     |████████████████████████████████| 51.5 MB 97 kB/s \n",
            "\u001b[?25hRequirement already satisfied: spacy<3.3.0,>=3.2.0 in /usr/local/lib/python3.7/dist-packages (from pt-core-news-md==3.2.0) (3.2.4)\n",
            "Requirement already satisfied: preshed<3.1.0,>=3.0.2 in /usr/local/lib/python3.7/dist-packages (from spacy<3.3.0,>=3.2.0->pt-core-news-md==3.2.0) (3.0.6)\n",
            "Requirement already satisfied: setuptools in /usr/local/lib/python3.7/dist-packages (from spacy<3.3.0,>=3.2.0->pt-core-news-md==3.2.0) (57.4.0)\n",
            "Requirement already satisfied: packaging>=20.0 in /usr/local/lib/python3.7/dist-packages (from spacy<3.3.0,>=3.2.0->pt-core-news-md==3.2.0) (21.3)\n",
            "Requirement already satisfied: pathy>=0.3.5 in /usr/local/lib/python3.7/dist-packages (from spacy<3.3.0,>=3.2.0->pt-core-news-md==3.2.0) (0.6.1)\n",
            "Requirement already satisfied: spacy-loggers<2.0.0,>=1.0.0 in /usr/local/lib/python3.7/dist-packages (from spacy<3.3.0,>=3.2.0->pt-core-news-md==3.2.0) (1.0.2)\n",
            "Requirement already satisfied: jinja2 in /usr/local/lib/python3.7/dist-packages (from spacy<3.3.0,>=3.2.0->pt-core-news-md==3.2.0) (2.11.3)\n",
            "Requirement already satisfied: requests<3.0.0,>=2.13.0 in /usr/local/lib/python3.7/dist-packages (from spacy<3.3.0,>=3.2.0->pt-core-news-md==3.2.0) (2.23.0)\n",
            "Requirement already satisfied: cymem<2.1.0,>=2.0.2 in /usr/local/lib/python3.7/dist-packages (from spacy<3.3.0,>=3.2.0->pt-core-news-md==3.2.0) (2.0.6)\n",
            "Requirement already satisfied: thinc<8.1.0,>=8.0.12 in /usr/local/lib/python3.7/dist-packages (from spacy<3.3.0,>=3.2.0->pt-core-news-md==3.2.0) (8.0.16)\n",
            "Requirement already satisfied: srsly<3.0.0,>=2.4.1 in /usr/local/lib/python3.7/dist-packages (from spacy<3.3.0,>=3.2.0->pt-core-news-md==3.2.0) (2.4.3)\n",
            "Requirement already satisfied: typer<0.5.0,>=0.3.0 in /usr/local/lib/python3.7/dist-packages (from spacy<3.3.0,>=3.2.0->pt-core-news-md==3.2.0) (0.4.1)\n",
            "Requirement already satisfied: langcodes<4.0.0,>=3.2.0 in /usr/local/lib/python3.7/dist-packages (from spacy<3.3.0,>=3.2.0->pt-core-news-md==3.2.0) (3.3.0)\n",
            "Requirement already satisfied: pydantic!=1.8,!=1.8.1,<1.9.0,>=1.7.4 in /usr/local/lib/python3.7/dist-packages (from spacy<3.3.0,>=3.2.0->pt-core-news-md==3.2.0) (1.8.2)\n",
            "Requirement already satisfied: murmurhash<1.1.0,>=0.28.0 in /usr/local/lib/python3.7/dist-packages (from spacy<3.3.0,>=3.2.0->pt-core-news-md==3.2.0) (1.0.7)\n",
            "Requirement already satisfied: tqdm<5.0.0,>=4.38.0 in /usr/local/lib/python3.7/dist-packages (from spacy<3.3.0,>=3.2.0->pt-core-news-md==3.2.0) (4.64.0)\n",
            "Requirement already satisfied: numpy>=1.15.0 in /usr/local/lib/python3.7/dist-packages (from spacy<3.3.0,>=3.2.0->pt-core-news-md==3.2.0) (1.21.6)\n",
            "Requirement already satisfied: wasabi<1.1.0,>=0.8.1 in /usr/local/lib/python3.7/dist-packages (from spacy<3.3.0,>=3.2.0->pt-core-news-md==3.2.0) (0.9.1)\n",
            "Requirement already satisfied: catalogue<2.1.0,>=2.0.6 in /usr/local/lib/python3.7/dist-packages (from spacy<3.3.0,>=3.2.0->pt-core-news-md==3.2.0) (2.0.7)\n",
            "Requirement already satisfied: typing-extensions<4.0.0.0,>=3.7.4 in /usr/local/lib/python3.7/dist-packages (from spacy<3.3.0,>=3.2.0->pt-core-news-md==3.2.0) (3.10.0.2)\n",
            "Requirement already satisfied: spacy-legacy<3.1.0,>=3.0.8 in /usr/local/lib/python3.7/dist-packages (from spacy<3.3.0,>=3.2.0->pt-core-news-md==3.2.0) (3.0.9)\n",
            "Requirement already satisfied: blis<0.8.0,>=0.4.0 in /usr/local/lib/python3.7/dist-packages (from spacy<3.3.0,>=3.2.0->pt-core-news-md==3.2.0) (0.4.1)\n",
            "Requirement already satisfied: click<8.1.0 in /usr/local/lib/python3.7/dist-packages (from spacy<3.3.0,>=3.2.0->pt-core-news-md==3.2.0) (7.1.2)\n",
            "Requirement already satisfied: zipp>=0.5 in /usr/local/lib/python3.7/dist-packages (from catalogue<2.1.0,>=2.0.6->spacy<3.3.0,>=3.2.0->pt-core-news-md==3.2.0) (3.8.0)\n",
            "Requirement already satisfied: pyparsing!=3.0.5,>=2.0.2 in /usr/local/lib/python3.7/dist-packages (from packaging>=20.0->spacy<3.3.0,>=3.2.0->pt-core-news-md==3.2.0) (3.0.9)\n",
            "Requirement already satisfied: smart-open<6.0.0,>=5.0.0 in /usr/local/lib/python3.7/dist-packages (from pathy>=0.3.5->spacy<3.3.0,>=3.2.0->pt-core-news-md==3.2.0) (5.2.1)\n",
            "Requirement already satisfied: certifi>=2017.4.17 in /usr/local/lib/python3.7/dist-packages (from requests<3.0.0,>=2.13.0->spacy<3.3.0,>=3.2.0->pt-core-news-md==3.2.0) (2021.10.8)\n",
            "Requirement already satisfied: urllib3!=1.25.0,!=1.25.1,<1.26,>=1.21.1 in /usr/local/lib/python3.7/dist-packages (from requests<3.0.0,>=2.13.0->spacy<3.3.0,>=3.2.0->pt-core-news-md==3.2.0) (1.24.3)\n",
            "Requirement already satisfied: chardet<4,>=3.0.2 in /usr/local/lib/python3.7/dist-packages (from requests<3.0.0,>=2.13.0->spacy<3.3.0,>=3.2.0->pt-core-news-md==3.2.0) (3.0.4)\n",
            "Requirement already satisfied: idna<3,>=2.5 in /usr/local/lib/python3.7/dist-packages (from requests<3.0.0,>=2.13.0->spacy<3.3.0,>=3.2.0->pt-core-news-md==3.2.0) (2.10)\n",
            "Requirement already satisfied: MarkupSafe>=0.23 in /usr/local/lib/python3.7/dist-packages (from jinja2->spacy<3.3.0,>=3.2.0->pt-core-news-md==3.2.0) (2.0.1)\n",
            "Installing collected packages: pt-core-news-md\n",
            "Successfully installed pt-core-news-md-3.2.0\n",
            "\u001b[38;5;2m✔ Download and installation successful\u001b[0m\n",
            "You can now load the package via spacy.load('pt_core_news_md')\n"
          ]
        }
      ],
      "source": [
        "!pip install pandas\n",
        "!pip install spacy==3.2.4\n",
        "!pip install plac\n",
        "!python -m spacy download pt_core_news_md"
      ]
    },
    {
      "cell_type": "code",
      "execution_count": 64,
      "metadata": {
        "id": "UryltWoGnkiP"
      },
      "outputs": [],
      "source": [
        "from __future__ import unicode_literals, print_function\n",
        "import plac\n",
        "import random\n",
        "from pathlib import Path\n",
        "import spacy\n",
        "from tqdm import tqdm"
      ]
    },
    {
      "cell_type": "code",
      "execution_count": 65,
      "metadata": {
        "colab": {
          "base_uri": "https://localhost:8080/"
        },
        "id": "uoE7xfYlqBDC",
        "outputId": "60d2dd56-bd67-48ff-f4e3-da30853745b4"
      },
      "outputs": [
        {
          "output_type": "stream",
          "name": "stdout",
          "text": [
            "--2022-05-23 12:06:53--  https://www.dropbox.com/s/sukruo2u3tiq5fr/punct-data.zip?dl=1\n",
            "Resolving www.dropbox.com (www.dropbox.com)... 162.125.1.18, 2620:100:601a:18::a27d:712\n",
            "Connecting to www.dropbox.com (www.dropbox.com)|162.125.1.18|:443... connected.\n",
            "HTTP request sent, awaiting response... 301 Moved Permanently\n",
            "Location: /s/dl/sukruo2u3tiq5fr/punct-data.zip [following]\n",
            "--2022-05-23 12:06:54--  https://www.dropbox.com/s/dl/sukruo2u3tiq5fr/punct-data.zip\n",
            "Reusing existing connection to www.dropbox.com:443.\n",
            "HTTP request sent, awaiting response... 302 Found\n",
            "Location: https://uc0a76605a45a50a1edcab8e9395.dl.dropboxusercontent.com/cd/0/get/Bl10GCknC_CGjzv0eDLFI5ah9Bmk93n25T_RwHGG4jUu-hJYVvcWhdUde1z0p-tZKIBidPMIZSfEMVCEghOB7SqlyebrrIpH-RAT_WhoRwtwINIIKDfphjcVIx8ZkumxmRZgdTqNPschkYItODkTVZaE1oU_lRL2EoeMidYBpTQXXMR-DfTjWXreh8i0W_EvhrQ/file?dl=1# [following]\n",
            "--2022-05-23 12:06:54--  https://uc0a76605a45a50a1edcab8e9395.dl.dropboxusercontent.com/cd/0/get/Bl10GCknC_CGjzv0eDLFI5ah9Bmk93n25T_RwHGG4jUu-hJYVvcWhdUde1z0p-tZKIBidPMIZSfEMVCEghOB7SqlyebrrIpH-RAT_WhoRwtwINIIKDfphjcVIx8ZkumxmRZgdTqNPschkYItODkTVZaE1oU_lRL2EoeMidYBpTQXXMR-DfTjWXreh8i0W_EvhrQ/file?dl=1\n",
            "Resolving uc0a76605a45a50a1edcab8e9395.dl.dropboxusercontent.com (uc0a76605a45a50a1edcab8e9395.dl.dropboxusercontent.com)... 162.125.1.15, 2620:100:6016:15::a27d:10f\n",
            "Connecting to uc0a76605a45a50a1edcab8e9395.dl.dropboxusercontent.com (uc0a76605a45a50a1edcab8e9395.dl.dropboxusercontent.com)|162.125.1.15|:443... connected.\n",
            "HTTP request sent, awaiting response... 200 OK\n",
            "Length: 1396353 (1.3M) [application/binary]\n",
            "Saving to: ‘punct_data.zip’\n",
            "\n",
            "punct_data.zip      100%[===================>]   1.33M  --.-KB/s    in 0.1s    \n",
            "\n",
            "2022-05-23 12:06:54 (9.60 MB/s) - ‘punct_data.zip’ saved [1396353/1396353]\n",
            "\n"
          ]
        }
      ],
      "source": [
        "!wget  https://www.dropbox.com/s/sukruo2u3tiq5fr/punct-data.zip?dl=1  -O punct_data.zip"
      ]
    },
    {
      "cell_type": "code",
      "execution_count": 66,
      "metadata": {
        "id": "LdA_bf3R1zf9"
      },
      "outputs": [],
      "source": [
        "!rm -r punct-data/"
      ]
    },
    {
      "cell_type": "code",
      "execution_count": 67,
      "metadata": {
        "colab": {
          "base_uri": "https://localhost:8080/"
        },
        "id": "Fh4-8BoJq9yQ",
        "outputId": "169d3ab4-ebc7-4c6e-f1ba-4b7346565fc2"
      },
      "outputs": [
        {
          "output_type": "stream",
          "name": "stdout",
          "text": [
            "Archive:  punct_data.zip\n",
            "   creating: punct-data/\n",
            "  inflating: punct-data/test.csv     \n",
            "  inflating: punct-data/train.csv    \n",
            "  inflating: punct-data/val.csv      \n"
          ]
        }
      ],
      "source": [
        "!unzip punct_data.zip"
      ]
    },
    {
      "cell_type": "code",
      "execution_count": 68,
      "metadata": {
        "id": "2FJVjpirVagi"
      },
      "outputs": [],
      "source": [
        "from collections import Counter\n",
        "import pandas as pd\n",
        "import re \n",
        "from collections import defaultdict\n",
        "from spacy.matcher import Matcher\n",
        "from spacy.tokens import Span\n",
        "from tqdm import tqdm\n",
        "import spacy"
      ]
    },
    {
      "cell_type": "code",
      "execution_count": 69,
      "metadata": {
        "id": "Gu4yLh-gVSoc"
      },
      "outputs": [],
      "source": [
        "nlp = spacy.blank('pt')"
      ]
    },
    {
      "cell_type": "code",
      "execution_count": 70,
      "metadata": {
        "id": "6wgOmnATqKGk"
      },
      "outputs": [],
      "source": [
        "def preprocess_data(dataframe):\n",
        "     \n",
        "\n",
        "    TOTAL = len(list(dataframe.groupby(\"sentence_id\")))\n",
        "    data = []\n",
        "    for _, group in tqdm(dataframe.groupby(\"sentence_id\"), total=TOTAL):\n",
        "        text = \" \".join(group.words)\n",
        "        doc = nlp.make_doc(text)\n",
        "        ents = []\n",
        "        count_dict = defaultdict(lambda : 0)\n",
        "        for i, label in enumerate(group.labels):\n",
        "            if label != \"O\":\n",
        "                matching_word = group.words.tolist()[i]\n",
        "                span = Span(doc, i, i+1, label=label)\n",
        "                ents.append((span.start_char, span.end_char, label.replace('I-','')))\n",
        "                count_dict[matching_word] += 1\n",
        "        ent = (text, {\n",
        "            'entities': ents\n",
        "        })\n",
        "        data.append(ent)\n",
        "    return data"
      ]
    },
    {
      "cell_type": "code",
      "execution_count": 71,
      "metadata": {
        "id": "rZUhkeLqq19m",
        "colab": {
          "base_uri": "https://localhost:8080/"
        },
        "outputId": "27cc1700-7f98-4c2f-afd7-531d7d26c612"
      },
      "outputs": [
        {
          "output_type": "stream",
          "name": "stderr",
          "text": [
            "100%|██████████| 4101/4101 [00:02<00:00, 1367.38it/s]\n"
          ]
        }
      ],
      "source": [
        "import pickle\n",
        "\n",
        "import pickle\n",
        "train_df = pd.read_csv('./punct-data/train.csv').dropna()\n",
        "TRAIN_DATA = preprocess_data(train_df)\n",
        "\n",
        "\n",
        "with open('train.pickle', 'wb') as handle:\n",
        "    pickle.dump(TRAIN_DATA, handle, protocol=pickle.HIGHEST_PROTOCOL)"
      ]
    },
    {
      "cell_type": "code",
      "execution_count": 72,
      "metadata": {
        "colab": {
          "base_uri": "https://localhost:8080/"
        },
        "id": "32KFK6TxwpGU",
        "outputId": "c6ba3bd8-cea5-457e-be8d-2d6b50309b58"
      },
      "outputs": [
        {
          "output_type": "execute_result",
          "data": {
            "text/plain": [
              "[('Filmado na cidade de Nova York Exibido pela primeira vez no TED2018 Sou um imigrante da Uganda vivendo nos Estados Unidos enquanto espero a aprovação do meu pedido de asilo',\n",
              "  {'entities': [(167, 172, 'PERIOD')]})]"
            ]
          },
          "metadata": {},
          "execution_count": 72
        }
      ],
      "source": [
        "with open('train.pickle', 'rb') as handle:\n",
        "    TRAIN_DATA = pickle.load(handle)\n",
        "TRAIN_DATA[:1]"
      ]
    },
    {
      "cell_type": "code",
      "execution_count": 73,
      "metadata": {
        "colab": {
          "base_uri": "https://localhost:8080/",
          "height": 990
        },
        "id": "eNH1moC3MKQI",
        "outputId": "a0f4f205-127b-4eac-bf14-fed81426740c"
      },
      "outputs": [
        {
          "output_type": "execute_result",
          "data": {
            "text/plain": [
              "    sentence_id    labels      words\n",
              "0             0         O    Filmado\n",
              "1             0         O         na\n",
              "2             0         O     cidade\n",
              "3             0         O         de\n",
              "4             0         O       Nova\n",
              "5             0         O       York\n",
              "6             0         O    Exibido\n",
              "7             0         O       pela\n",
              "8             0         O   primeira\n",
              "9             0         O        vez\n",
              "10            0         O         no\n",
              "11            0         O    TED2018\n",
              "12            0         O        Sou\n",
              "13            0         O         um\n",
              "14            0         O  imigrante\n",
              "15            0         O         da\n",
              "16            0         O     Uganda\n",
              "17            0         O    vivendo\n",
              "18            0         O        nos\n",
              "19            0         O    Estados\n",
              "20            0         O     Unidos\n",
              "21            0         O   enquanto\n",
              "22            0         O     espero\n",
              "23            0         O          a\n",
              "24            0         O  aprovação\n",
              "25            0         O         do\n",
              "26            0         O        meu\n",
              "27            0         O     pedido\n",
              "28            0         O         de\n",
              "29            0  I-PERIOD      asilo"
            ],
            "text/html": [
              "\n",
              "  <div id=\"df-3597fdb3-f5ac-411c-ac80-9536baa078ad\">\n",
              "    <div class=\"colab-df-container\">\n",
              "      <div>\n",
              "<style scoped>\n",
              "    .dataframe tbody tr th:only-of-type {\n",
              "        vertical-align: middle;\n",
              "    }\n",
              "\n",
              "    .dataframe tbody tr th {\n",
              "        vertical-align: top;\n",
              "    }\n",
              "\n",
              "    .dataframe thead th {\n",
              "        text-align: right;\n",
              "    }\n",
              "</style>\n",
              "<table border=\"1\" class=\"dataframe\">\n",
              "  <thead>\n",
              "    <tr style=\"text-align: right;\">\n",
              "      <th></th>\n",
              "      <th>sentence_id</th>\n",
              "      <th>labels</th>\n",
              "      <th>words</th>\n",
              "    </tr>\n",
              "  </thead>\n",
              "  <tbody>\n",
              "    <tr>\n",
              "      <th>0</th>\n",
              "      <td>0</td>\n",
              "      <td>O</td>\n",
              "      <td>Filmado</td>\n",
              "    </tr>\n",
              "    <tr>\n",
              "      <th>1</th>\n",
              "      <td>0</td>\n",
              "      <td>O</td>\n",
              "      <td>na</td>\n",
              "    </tr>\n",
              "    <tr>\n",
              "      <th>2</th>\n",
              "      <td>0</td>\n",
              "      <td>O</td>\n",
              "      <td>cidade</td>\n",
              "    </tr>\n",
              "    <tr>\n",
              "      <th>3</th>\n",
              "      <td>0</td>\n",
              "      <td>O</td>\n",
              "      <td>de</td>\n",
              "    </tr>\n",
              "    <tr>\n",
              "      <th>4</th>\n",
              "      <td>0</td>\n",
              "      <td>O</td>\n",
              "      <td>Nova</td>\n",
              "    </tr>\n",
              "    <tr>\n",
              "      <th>5</th>\n",
              "      <td>0</td>\n",
              "      <td>O</td>\n",
              "      <td>York</td>\n",
              "    </tr>\n",
              "    <tr>\n",
              "      <th>6</th>\n",
              "      <td>0</td>\n",
              "      <td>O</td>\n",
              "      <td>Exibido</td>\n",
              "    </tr>\n",
              "    <tr>\n",
              "      <th>7</th>\n",
              "      <td>0</td>\n",
              "      <td>O</td>\n",
              "      <td>pela</td>\n",
              "    </tr>\n",
              "    <tr>\n",
              "      <th>8</th>\n",
              "      <td>0</td>\n",
              "      <td>O</td>\n",
              "      <td>primeira</td>\n",
              "    </tr>\n",
              "    <tr>\n",
              "      <th>9</th>\n",
              "      <td>0</td>\n",
              "      <td>O</td>\n",
              "      <td>vez</td>\n",
              "    </tr>\n",
              "    <tr>\n",
              "      <th>10</th>\n",
              "      <td>0</td>\n",
              "      <td>O</td>\n",
              "      <td>no</td>\n",
              "    </tr>\n",
              "    <tr>\n",
              "      <th>11</th>\n",
              "      <td>0</td>\n",
              "      <td>O</td>\n",
              "      <td>TED2018</td>\n",
              "    </tr>\n",
              "    <tr>\n",
              "      <th>12</th>\n",
              "      <td>0</td>\n",
              "      <td>O</td>\n",
              "      <td>Sou</td>\n",
              "    </tr>\n",
              "    <tr>\n",
              "      <th>13</th>\n",
              "      <td>0</td>\n",
              "      <td>O</td>\n",
              "      <td>um</td>\n",
              "    </tr>\n",
              "    <tr>\n",
              "      <th>14</th>\n",
              "      <td>0</td>\n",
              "      <td>O</td>\n",
              "      <td>imigrante</td>\n",
              "    </tr>\n",
              "    <tr>\n",
              "      <th>15</th>\n",
              "      <td>0</td>\n",
              "      <td>O</td>\n",
              "      <td>da</td>\n",
              "    </tr>\n",
              "    <tr>\n",
              "      <th>16</th>\n",
              "      <td>0</td>\n",
              "      <td>O</td>\n",
              "      <td>Uganda</td>\n",
              "    </tr>\n",
              "    <tr>\n",
              "      <th>17</th>\n",
              "      <td>0</td>\n",
              "      <td>O</td>\n",
              "      <td>vivendo</td>\n",
              "    </tr>\n",
              "    <tr>\n",
              "      <th>18</th>\n",
              "      <td>0</td>\n",
              "      <td>O</td>\n",
              "      <td>nos</td>\n",
              "    </tr>\n",
              "    <tr>\n",
              "      <th>19</th>\n",
              "      <td>0</td>\n",
              "      <td>O</td>\n",
              "      <td>Estados</td>\n",
              "    </tr>\n",
              "    <tr>\n",
              "      <th>20</th>\n",
              "      <td>0</td>\n",
              "      <td>O</td>\n",
              "      <td>Unidos</td>\n",
              "    </tr>\n",
              "    <tr>\n",
              "      <th>21</th>\n",
              "      <td>0</td>\n",
              "      <td>O</td>\n",
              "      <td>enquanto</td>\n",
              "    </tr>\n",
              "    <tr>\n",
              "      <th>22</th>\n",
              "      <td>0</td>\n",
              "      <td>O</td>\n",
              "      <td>espero</td>\n",
              "    </tr>\n",
              "    <tr>\n",
              "      <th>23</th>\n",
              "      <td>0</td>\n",
              "      <td>O</td>\n",
              "      <td>a</td>\n",
              "    </tr>\n",
              "    <tr>\n",
              "      <th>24</th>\n",
              "      <td>0</td>\n",
              "      <td>O</td>\n",
              "      <td>aprovação</td>\n",
              "    </tr>\n",
              "    <tr>\n",
              "      <th>25</th>\n",
              "      <td>0</td>\n",
              "      <td>O</td>\n",
              "      <td>do</td>\n",
              "    </tr>\n",
              "    <tr>\n",
              "      <th>26</th>\n",
              "      <td>0</td>\n",
              "      <td>O</td>\n",
              "      <td>meu</td>\n",
              "    </tr>\n",
              "    <tr>\n",
              "      <th>27</th>\n",
              "      <td>0</td>\n",
              "      <td>O</td>\n",
              "      <td>pedido</td>\n",
              "    </tr>\n",
              "    <tr>\n",
              "      <th>28</th>\n",
              "      <td>0</td>\n",
              "      <td>O</td>\n",
              "      <td>de</td>\n",
              "    </tr>\n",
              "    <tr>\n",
              "      <th>29</th>\n",
              "      <td>0</td>\n",
              "      <td>I-PERIOD</td>\n",
              "      <td>asilo</td>\n",
              "    </tr>\n",
              "  </tbody>\n",
              "</table>\n",
              "</div>\n",
              "      <button class=\"colab-df-convert\" onclick=\"convertToInteractive('df-3597fdb3-f5ac-411c-ac80-9536baa078ad')\"\n",
              "              title=\"Convert this dataframe to an interactive table.\"\n",
              "              style=\"display:none;\">\n",
              "        \n",
              "  <svg xmlns=\"http://www.w3.org/2000/svg\" height=\"24px\"viewBox=\"0 0 24 24\"\n",
              "       width=\"24px\">\n",
              "    <path d=\"M0 0h24v24H0V0z\" fill=\"none\"/>\n",
              "    <path d=\"M18.56 5.44l.94 2.06.94-2.06 2.06-.94-2.06-.94-.94-2.06-.94 2.06-2.06.94zm-11 1L8.5 8.5l.94-2.06 2.06-.94-2.06-.94L8.5 2.5l-.94 2.06-2.06.94zm10 10l.94 2.06.94-2.06 2.06-.94-2.06-.94-.94-2.06-.94 2.06-2.06.94z\"/><path d=\"M17.41 7.96l-1.37-1.37c-.4-.4-.92-.59-1.43-.59-.52 0-1.04.2-1.43.59L10.3 9.45l-7.72 7.72c-.78.78-.78 2.05 0 2.83L4 21.41c.39.39.9.59 1.41.59.51 0 1.02-.2 1.41-.59l7.78-7.78 2.81-2.81c.8-.78.8-2.07 0-2.86zM5.41 20L4 18.59l7.72-7.72 1.47 1.35L5.41 20z\"/>\n",
              "  </svg>\n",
              "      </button>\n",
              "      \n",
              "  <style>\n",
              "    .colab-df-container {\n",
              "      display:flex;\n",
              "      flex-wrap:wrap;\n",
              "      gap: 12px;\n",
              "    }\n",
              "\n",
              "    .colab-df-convert {\n",
              "      background-color: #E8F0FE;\n",
              "      border: none;\n",
              "      border-radius: 50%;\n",
              "      cursor: pointer;\n",
              "      display: none;\n",
              "      fill: #1967D2;\n",
              "      height: 32px;\n",
              "      padding: 0 0 0 0;\n",
              "      width: 32px;\n",
              "    }\n",
              "\n",
              "    .colab-df-convert:hover {\n",
              "      background-color: #E2EBFA;\n",
              "      box-shadow: 0px 1px 2px rgba(60, 64, 67, 0.3), 0px 1px 3px 1px rgba(60, 64, 67, 0.15);\n",
              "      fill: #174EA6;\n",
              "    }\n",
              "\n",
              "    [theme=dark] .colab-df-convert {\n",
              "      background-color: #3B4455;\n",
              "      fill: #D2E3FC;\n",
              "    }\n",
              "\n",
              "    [theme=dark] .colab-df-convert:hover {\n",
              "      background-color: #434B5C;\n",
              "      box-shadow: 0px 1px 3px 1px rgba(0, 0, 0, 0.15);\n",
              "      filter: drop-shadow(0px 1px 2px rgba(0, 0, 0, 0.3));\n",
              "      fill: #FFFFFF;\n",
              "    }\n",
              "  </style>\n",
              "\n",
              "      <script>\n",
              "        const buttonEl =\n",
              "          document.querySelector('#df-3597fdb3-f5ac-411c-ac80-9536baa078ad button.colab-df-convert');\n",
              "        buttonEl.style.display =\n",
              "          google.colab.kernel.accessAllowed ? 'block' : 'none';\n",
              "\n",
              "        async function convertToInteractive(key) {\n",
              "          const element = document.querySelector('#df-3597fdb3-f5ac-411c-ac80-9536baa078ad');\n",
              "          const dataTable =\n",
              "            await google.colab.kernel.invokeFunction('convertToInteractive',\n",
              "                                                     [key], {});\n",
              "          if (!dataTable) return;\n",
              "\n",
              "          const docLinkHtml = 'Like what you see? Visit the ' +\n",
              "            '<a target=\"_blank\" href=https://colab.research.google.com/notebooks/data_table.ipynb>data table notebook</a>'\n",
              "            + ' to learn more about interactive tables.';\n",
              "          element.innerHTML = '';\n",
              "          dataTable['output_type'] = 'display_data';\n",
              "          await google.colab.output.renderOutput(dataTable, element);\n",
              "          const docLink = document.createElement('div');\n",
              "          docLink.innerHTML = docLinkHtml;\n",
              "          element.appendChild(docLink);\n",
              "        }\n",
              "      </script>\n",
              "    </div>\n",
              "  </div>\n",
              "  "
            ]
          },
          "metadata": {},
          "execution_count": 73
        }
      ],
      "source": [
        "train_df.loc[train_df['sentence_id']==0,]"
      ]
    },
    {
      "cell_type": "code",
      "execution_count": 74,
      "metadata": {
        "colab": {
          "base_uri": "https://localhost:8080/"
        },
        "id": "sRJkhqvFtWYF",
        "outputId": "733f8395-e8ed-4377-b94d-36fad45a4625"
      },
      "outputs": [
        {
          "output_type": "execute_result",
          "data": {
            "text/plain": [
              "[('Mas também demonstra o que costuma faltar no debate global sobre refugiados migrantes e imigrantes as vozes daqueles desfavorecidos Os cidadãos de muitos países anfitriões até mesmo daqueles que acolhiam os recém chegados estão preocupados com o aumento do número de indivíduos chegando aos seus países A primeira crítica é que os recém chegados prejudicam a estabilidade do bem estar social e dos níveis de emprego em seus países Cidadãos inseguros e céticos olham para os políticos que competem entre si para ver quem ganha o prêmio de voz mais alta do populismo e do nacionalismo É uma competição entre quem é o mais duro com os migrantes quem é mais propenso a impor proibições de viagem e quem é o mais ansioso em propor projetos de construção de muros',\n",
              "  {'entities': [(65, 75, 'COMMA'),\n",
              "    (88, 98, 'COMMA'),\n",
              "    (117, 131, 'PERIOD'),\n",
              "    (161, 171, 'COMMA'),\n",
              "    (213, 221, 'COMMA'),\n",
              "    (296, 302, 'PERIOD'),\n",
              "    (424, 430, 'PERIOD'),\n",
              "    (570, 582, 'PERIOD'),\n",
              "    (632, 641, 'COMMA'),\n",
              "    (752, 757, 'PERIOD')]})]"
            ]
          },
          "metadata": {},
          "execution_count": 74
        }
      ],
      "source": [
        "TRAIN_DATA[2:3]"
      ]
    },
    {
      "cell_type": "code",
      "execution_count": 75,
      "metadata": {
        "colab": {
          "base_uri": "https://localhost:8080/"
        },
        "id": "GDFWEksqsttc",
        "outputId": "effb0401-39f9-45b7-9161-6294d2ab991d"
      },
      "outputs": [
        {
          "output_type": "execute_result",
          "data": {
            "text/plain": [
              "[('Filmado na cidade de Nova York Exibido pela primeira vez no TED2018 Sou um imigrante da Uganda vivendo nos Estados Unidos enquanto espero a aprovação do meu pedido de asilo',\n",
              "  {'entities': [(167, 172, 'PERIOD')]})]"
            ]
          },
          "metadata": {},
          "execution_count": 75
        }
      ],
      "source": [
        "TRAIN_DATA[:1]"
      ]
    },
    {
      "cell_type": "code",
      "execution_count": 115,
      "metadata": {
        "id": "Lq__aVsIvhdu"
      },
      "outputs": [],
      "source": [
        "from spacy.tokens import Doc\n",
        "from spacy.training import Example\n",
        "from tqdm.notebook import trange\n",
        "#import spacy_transformers\n",
        "import numpy as np\n",
        "\n",
        "def train_spacy(data, iterations=10, model=\"pt_core_news_md\"):\n",
        "    TRAIN_DATA = data\n",
        "\n",
        "    # nlp = spacy.blank(\"en\")  # start with a blank model\n",
        "\n",
        "    if model is not None:\n",
        "      nlp = spacy.load(model)\n",
        "      print(\"Loaded model '%s'\" % model)\n",
        "      ner = nlp.get_pipe('ner')\n",
        "    else:\n",
        "        nlp = spacy.blank('pt')  \n",
        "       \n",
        "        nlp.add_pipe('ner', last=True)\n",
        "        ner = nlp.get_pipe('ner')\n",
        "        ner.add_label('O')\n",
        "        print(\"Created blank 'pt' model\")\n",
        "\n",
        "    #set up the pipeline\n",
        "    for _, annotations in TRAIN_DATA:\n",
        "        for ent in annotations.get(\"entities\"):\n",
        "            ner.add_label(ent[2])\n",
        "\n",
        "    print(ner.labels)\n",
        "    # Init loss\n",
        "    losses = []\n",
        "\n",
        "    # Init and configure optimizer\n",
        "    optimizer = nlp.create_optimizer()\n",
        "    optimizer.learn_rate = 0.001  # Change to some lr you prefers\n",
        "    batch_size = 32  # Choose batch size you prefers\n",
        "\n",
        "    for itn in trange(iterations):\n",
        "       \n",
        "        random.shuffle(TRAIN_DATA)\n",
        "        \n",
        "\n",
        "        # Batch the examples and iterate over them\n",
        "        for batch in spacy.util.minibatch(TRAIN_DATA, size=batch_size):\n",
        "            # Create Example instance for each training example in mini batch\n",
        "            #print(annotations)\n",
        "            examples = [Example.from_dict(nlp.make_doc(text), annotations) for text, annotations in batch]\n",
        "            # Update model with mini batch\n",
        "            \n",
        "            loss = nlp.update(examples, drop=0.2, sgd=optimizer)\n",
        "            losses.append(loss['ner'])\n",
        "\n",
        "    y = np.array(losses)        \n",
        "    x = np.arange(0, iterations)\n",
        "    sns.lineplot(x, y)   \n",
        "\n",
        "    return nlp,losses"
      ]
    },
    {
      "cell_type": "code",
      "source": [
        "nlp, losses = train_spacy(TRAIN_DATA, iterations=15, model='pt_core_news_lg')"
      ],
      "metadata": {
        "colab": {
          "base_uri": "https://localhost:8080/",
          "height": 84,
          "referenced_widgets": [
            "a0e45bc5a23c47f2a55c1eb59757f59a",
            "91bfdc4eb62747db962dfbe39487cf1a",
            "d53c4ee1b81b4f199a65a235f610c84d",
            "bdde6e4b89cc4d60977ca2e131b37ac0",
            "654b4458d824434f844604f8a92744a5",
            "0bee50eeea3f4f49b75d786919c792b9",
            "cee4dbfeabaa40959e88c3c5588aad99",
            "7a83c6bddbb248e0b899c61ceae7f293",
            "a203179e3942463798fce1981015fbf0",
            "97ec31ca13b84e43862e2d0a5e25ce90",
            "0a74923e33d44dd9a274d77108606107"
          ]
        },
        "id": "rehO_3pCzest",
        "outputId": "b4fc5bdd-cd2d-4ec6-ab1e-e27c200a0134"
      },
      "execution_count": 116,
      "outputs": [
        {
          "output_type": "stream",
          "name": "stdout",
          "text": [
            "Loaded model 'pt_core_news_md'\n",
            "('COMMA', 'LOC', 'MISC', 'ORG', 'PER', 'PERIOD', 'QUESTION')\n"
          ]
        },
        {
          "output_type": "display_data",
          "data": {
            "text/plain": [
              "  0%|          | 0/15 [00:00<?, ?it/s]"
            ],
            "application/vnd.jupyter.widget-view+json": {
              "version_major": 2,
              "version_minor": 0,
              "model_id": "a0e45bc5a23c47f2a55c1eb59757f59a"
            }
          },
          "metadata": {}
        }
      ]
    },
    {
      "cell_type": "code",
      "source": [
        "import seaborn as sns\n",
        "\n",
        "ner_loss = [loss['ner'] for loss in losses]\n",
        "y = np.array(ner_loss)\n",
        "x = np.arange(0, len(ner_loss))\n",
        "sns.lineplot(x, y)"
      ],
      "metadata": {
        "colab": {
          "base_uri": "https://localhost:8080/",
          "height": 337
        },
        "id": "S3RIev4zGJf3",
        "outputId": "bfa6e61e-36ca-4bcd-8fbe-6855f7018a0e"
      },
      "execution_count": 120,
      "outputs": [
        {
          "output_type": "stream",
          "name": "stderr",
          "text": [
            "/usr/local/lib/python3.7/dist-packages/seaborn/_decorators.py:43: FutureWarning: Pass the following variables as keyword args: x, y. From version 0.12, the only valid positional argument will be `data`, and passing other arguments without an explicit keyword will result in an error or misinterpretation.\n",
            "  FutureWarning\n"
          ]
        },
        {
          "output_type": "execute_result",
          "data": {
            "text/plain": [
              "<matplotlib.axes._subplots.AxesSubplot at 0x7f59f65d0410>"
            ]
          },
          "metadata": {},
          "execution_count": 120
        },
        {
          "output_type": "display_data",
          "data": {
            "text/plain": [
              "<Figure size 432x288 with 1 Axes>"
            ],
            "image/png": "[encoded data removed]"
          },
          "metadata": {
            "needs_background": "light"
          }
        }
      ]
    },
    {
      "cell_type": "code",
      "execution_count": 121,
      "metadata": {
        "id": "Y6MQHF8j3owK",
        "colab": {
          "base_uri": "https://localhost:8080/"
        },
        "outputId": "78355eaa-ae7b-46a9-e81e-6c88d58b526e"
      },
      "outputs": [
        {
          "output_type": "stream",
          "name": "stderr",
          "text": [
            "100%|██████████| 1282/1282 [00:00<00:00, 1353.27it/s]\n"
          ]
        }
      ],
      "source": [
        "test_df = pd.read_csv('./punct-data/test.csv').dropna()\n",
        "label2dict = {\"COMMA\":\",\",\"PERIOD\": \".\", \"QUESTION\":\"?\"}\n",
        "TOTAL = len(list(test_df.groupby(\"sentence_id\")))\n",
        "\n",
        "TEST_DATA = preprocess_data(test_df)"
      ]
    },
    {
      "cell_type": "code",
      "execution_count": 122,
      "metadata": {
        "id": "jLX3Bmj7TXxb"
      },
      "outputs": [],
      "source": [
        "\n",
        "examples = []\n",
        "for text, entities in TEST_DATA:\n",
        "    doc = nlp(text)\n",
        "    \n",
        "    example = Example.from_dict(doc, entities)\n",
        "    examples.append(example)\n",
        "    \n",
        "   "
      ]
    },
    {
      "cell_type": "code",
      "execution_count": 134,
      "metadata": {
        "id": "HTKf8KP7y5G3",
        "colab": {
          "base_uri": "https://localhost:8080/"
        },
        "outputId": "dee643b8-b5b7-4030-de05-3e26f4d119ca"
      },
      "outputs": [
        {
          "output_type": "stream",
          "name": "stdout",
          "text": [
            "0.7120850250776212\n"
          ]
        }
      ],
      "source": [
        "from spacy.scorer import Scorer\n",
        "scorer = Scorer()\n",
        "scores = Scorer.score_spans(examples, \"ents\")\n",
        "print(scores[\"ents_f\"])"
      ]
    },
    {
      "cell_type": "code",
      "source": [
        "result_df = pd.DataFrame(scores['ents_per_type'])\n",
        "result_df"
      ],
      "metadata": {
        "colab": {
          "base_uri": "https://localhost:8080/",
          "height": 143
        },
        "id": "TDnXG0LpHi8F",
        "outputId": "a3034a02-043e-4f63-c6db-09eceaaf6b9e"
      },
      "execution_count": 135,
      "outputs": [
        {
          "output_type": "execute_result",
          "data": {
            "text/plain": [
              "   QUESTION    PERIOD     COMMA\n",
              "p  0.500000  0.913547  0.667206\n",
              "r  0.004878  0.957049  0.512334\n",
              "f  0.009662  0.934793  0.579602"
            ],
            "text/html": [
              "\n",
              "  <div id=\"df-36e21ad2-af1e-494f-ae8f-bcfce7fa6bf2\">\n",
              "    <div class=\"colab-df-container\">\n",
              "      <div>\n",
              "<style scoped>\n",
              "    .dataframe tbody tr th:only-of-type {\n",
              "        vertical-align: middle;\n",
              "    }\n",
              "\n",
              "    .dataframe tbody tr th {\n",
              "        vertical-align: top;\n",
              "    }\n",
              "\n",
              "    .dataframe thead th {\n",
              "        text-align: right;\n",
              "    }\n",
              "</style>\n",
              "<table border=\"1\" class=\"dataframe\">\n",
              "  <thead>\n",
              "    <tr style=\"text-align: right;\">\n",
              "      <th></th>\n",
              "      <th>QUESTION</th>\n",
              "      <th>PERIOD</th>\n",
              "      <th>COMMA</th>\n",
              "    </tr>\n",
              "  </thead>\n",
              "  <tbody>\n",
              "    <tr>\n",
              "      <th>p</th>\n",
              "      <td>0.500000</td>\n",
              "      <td>0.913547</td>\n",
              "      <td>0.667206</td>\n",
              "    </tr>\n",
              "    <tr>\n",
              "      <th>r</th>\n",
              "      <td>0.004878</td>\n",
              "      <td>0.957049</td>\n",
              "      <td>0.512334</td>\n",
              "    </tr>\n",
              "    <tr>\n",
              "      <th>f</th>\n",
              "      <td>0.009662</td>\n",
              "      <td>0.934793</td>\n",
              "      <td>0.579602</td>\n",
              "    </tr>\n",
              "  </tbody>\n",
              "</table>\n",
              "</div>\n",
              "      <button class=\"colab-df-convert\" onclick=\"convertToInteractive('df-36e21ad2-af1e-494f-ae8f-bcfce7fa6bf2')\"\n",
              "              title=\"Convert this dataframe to an interactive table.\"\n",
              "              style=\"display:none;\">\n",
              "        \n",
              "  <svg xmlns=\"http://www.w3.org/2000/svg\" height=\"24px\"viewBox=\"0 0 24 24\"\n",
              "       width=\"24px\">\n",
              "    <path d=\"M0 0h24v24H0V0z\" fill=\"none\"/>\n",
              "    <path d=\"M18.56 5.44l.94 2.06.94-2.06 2.06-.94-2.06-.94-.94-2.06-.94 2.06-2.06.94zm-11 1L8.5 8.5l.94-2.06 2.06-.94-2.06-.94L8.5 2.5l-.94 2.06-2.06.94zm10 10l.94 2.06.94-2.06 2.06-.94-2.06-.94-.94-2.06-.94 2.06-2.06.94z\"/><path d=\"M17.41 7.96l-1.37-1.37c-.4-.4-.92-.59-1.43-.59-.52 0-1.04.2-1.43.59L10.3 9.45l-7.72 7.72c-.78.78-.78 2.05 0 2.83L4 21.41c.39.39.9.59 1.41.59.51 0 1.02-.2 1.41-.59l7.78-7.78 2.81-2.81c.8-.78.8-2.07 0-2.86zM5.41 20L4 18.59l7.72-7.72 1.47 1.35L5.41 20z\"/>\n",
              "  </svg>\n",
              "      </button>\n",
              "      \n",
              "  <style>\n",
              "    .colab-df-container {\n",
              "      display:flex;\n",
              "      flex-wrap:wrap;\n",
              "      gap: 12px;\n",
              "    }\n",
              "\n",
              "    .colab-df-convert {\n",
              "      background-color: #E8F0FE;\n",
              "      border: none;\n",
              "      border-radius: 50%;\n",
              "      cursor: pointer;\n",
              "      display: none;\n",
              "      fill: #1967D2;\n",
              "      height: 32px;\n",
              "      padding: 0 0 0 0;\n",
              "      width: 32px;\n",
              "    }\n",
              "\n",
              "    .colab-df-convert:hover {\n",
              "      background-color: #E2EBFA;\n",
              "      box-shadow: 0px 1px 2px rgba(60, 64, 67, 0.3), 0px 1px 3px 1px rgba(60, 64, 67, 0.15);\n",
              "      fill: #174EA6;\n",
              "    }\n",
              "\n",
              "    [theme=dark] .colab-df-convert {\n",
              "      background-color: #3B4455;\n",
              "      fill: #D2E3FC;\n",
              "    }\n",
              "\n",
              "    [theme=dark] .colab-df-convert:hover {\n",
              "      background-color: #434B5C;\n",
              "      box-shadow: 0px 1px 3px 1px rgba(0, 0, 0, 0.15);\n",
              "      filter: drop-shadow(0px 1px 2px rgba(0, 0, 0, 0.3));\n",
              "      fill: #FFFFFF;\n",
              "    }\n",
              "  </style>\n",
              "\n",
              "      <script>\n",
              "        const buttonEl =\n",
              "          document.querySelector('#df-36e21ad2-af1e-494f-ae8f-bcfce7fa6bf2 button.colab-df-convert');\n",
              "        buttonEl.style.display =\n",
              "          google.colab.kernel.accessAllowed ? 'block' : 'none';\n",
              "\n",
              "        async function convertToInteractive(key) {\n",
              "          const element = document.querySelector('#df-36e21ad2-af1e-494f-ae8f-bcfce7fa6bf2');\n",
              "          const dataTable =\n",
              "            await google.colab.kernel.invokeFunction('convertToInteractive',\n",
              "                                                     [key], {});\n",
              "          if (!dataTable) return;\n",
              "\n",
              "          const docLinkHtml = 'Like what you see? Visit the ' +\n",
              "            '<a target=\"_blank\" href=https://colab.research.google.com/notebooks/data_table.ipynb>data table notebook</a>'\n",
              "            + ' to learn more about interactive tables.';\n",
              "          element.innerHTML = '';\n",
              "          dataTable['output_type'] = 'display_data';\n",
              "          await google.colab.output.renderOutput(dataTable, element);\n",
              "          const docLink = document.createElement('div');\n",
              "          docLink.innerHTML = docLinkHtml;\n",
              "          element.appendChild(docLink);\n",
              "        }\n",
              "      </script>\n",
              "    </div>\n",
              "  </div>\n",
              "  "
            ]
          },
          "metadata": {},
          "execution_count": 135
        }
      ]
    },
    {
      "cell_type": "code",
      "source": [
        "open('latex.txt', 'w').write(result_df.to_latex())"
      ],
      "metadata": {
        "colab": {
          "base_uri": "https://localhost:8080/"
        },
        "id": "cy1PfSEVI09_",
        "outputId": "1c23b953-185c-4e24-cf9a-e658bcbda588"
      },
      "execution_count": 136,
      "outputs": [
        {
          "output_type": "execute_result",
          "data": {
            "text/plain": [
              "231"
            ]
          },
          "metadata": {},
          "execution_count": 136
        }
      ]
    },
    {
      "cell_type": "code",
      "execution_count": 133,
      "metadata": {
        "id": "GHHGUvKg-ceZ",
        "colab": {
          "base_uri": "https://localhost:8080/"
        },
        "outputId": "5a4904b5-66e7-4e9f-fb38-a6711d691546"
      },
      "outputs": [
        {
          "output_type": "stream",
          "name": "stdout",
          "text": [
            "  adding: ner/ (stored 0%)\n",
            "  adding: ner/config.cfg (deflated 73%)\n",
            "  adding: ner/meta.json (deflated 87%)\n",
            "  adding: ner/tokenizer (deflated 84%)\n",
            "  adding: ner/parser/ (stored 0%)\n",
            "  adding: ner/parser/model (deflated 7%)\n",
            "  adding: ner/parser/cfg (deflated 32%)\n",
            "  adding: ner/parser/moves (deflated 52%)\n",
            "  adding: ner/attribute_ruler/ (stored 0%)\n",
            "  adding: ner/attribute_ruler/patterns (deflated 75%)\n",
            "  adding: ner/lemmatizer/ (stored 0%)\n",
            "  adding: ner/lemmatizer/lookups/ (stored 0%)\n",
            "  adding: ner/lemmatizer/lookups/lookups.bin (deflated 47%)\n",
            "  adding: ner/vocab/ (stored 0%)\n",
            "  adding: ner/vocab/vectors (deflated 9%)\n",
            "  adding: ner/vocab/lookups.bin (stored 0%)\n",
            "  adding: ner/vocab/vectors.cfg (stored 0%)\n",
            "  adding: ner/vocab/strings.json (deflated 79%)\n",
            "  adding: ner/vocab/key2row (deflated 7%)\n",
            "  adding: ner/morphologizer/ (stored 0%)\n",
            "  adding: ner/morphologizer/model (deflated 7%)\n",
            "  adding: ner/morphologizer/cfg (deflated 92%)\n",
            "  adding: ner/tok2vec/ (stored 0%)\n",
            "  adding: ner/tok2vec/model (deflated 7%)\n",
            "  adding: ner/tok2vec/cfg (stored 0%)\n",
            "  adding: ner/senter/ (stored 0%)\n",
            "  adding: ner/senter/model (deflated 9%)\n",
            "  adding: ner/senter/cfg (stored 0%)\n",
            "  adding: ner/ner/ (stored 0%)\n",
            "  adding: ner/ner/model (deflated 7%)\n",
            "  adding: ner/ner/cfg (deflated 33%)\n",
            "  adding: ner/ner/moves (deflated 66%)\n"
          ]
        }
      ],
      "source": [
        "!zip pt_core_news_md_ner.zip -r ner "
      ]
    },
    {
      "cell_type": "code",
      "execution_count": null,
      "metadata": {
        "id": "kVUqNiicxsp7"
      },
      "outputs": [],
      "source": [
        "scores"
      ]
    },
    {
      "cell_type": "code",
      "execution_count": 131,
      "metadata": {
        "id": "P2Be_lnEoxp8",
        "colab": {
          "base_uri": "https://localhost:8080/"
        },
        "outputId": "993aee12-4dce-4a62-a04a-c1d6c8c649ee"
      },
      "outputs": [
        {
          "output_type": "stream",
          "name": "stdout",
          "text": [
            "Saved model to ner\n"
          ]
        }
      ],
      "source": [
        "output_dir = 'ner'\n",
        "if output_dir is not None:\n",
        "    output_dir = Path(output_dir)\n",
        "    if not output_dir.exists():\n",
        "        output_dir.mkdir()\n",
        "    nlp.to_disk(output_dir)\n",
        "    print(\"Saved model to\", output_dir)"
      ]
    }
  ],
  "metadata": {
    "colab": {
      "collapsed_sections": [],
      "name": "Spacy-Punctuator.ipynb",
      "provenance": []
    },
    "interpreter": {
      "hash": "07956fd4d1ee88bee90da7da35110e0237ff0a8d58a32634b1f462dcfa3b0dd8"
    },
    "kernelspec": {
      "display_name": "Python 3.6.13 ('ml2')",
      "language": "python",
      "name": "python3"
    },
    "language_info": {
      "codemirror_mode": {
        "name": "ipython",
        "version": 3
      },
      "file_extension": ".py",
      "mimetype": "text/x-python",
      "name": "python",
      "nbconvert_exporter": "python",
      "pygments_lexer": "ipython3",
      "version": "3.6.13"
    },
    "widgets": {
      "application/vnd.jupyter.widget-state+json": {
        "a0e45bc5a23c47f2a55c1eb59757f59a": {
          "model_module": "@jupyter-widgets/controls",
          "model_name": "HBoxModel",
          "model_module_version": "1.5.0",
          "state": {
            "_dom_classes": [],
            "_model_module": "@jupyter-widgets/controls",
            "_model_module_version": "1.5.0",
            "_model_name": "HBoxModel",
            "_view_count": null,
            "_view_module": "@jupyter-widgets/controls",
            "_view_module_version": "1.5.0",
            "_view_name": "HBoxView",
            "box_style": "",
            "children": [
              "IPY_MODEL_91bfdc4eb62747db962dfbe39487cf1a",
              "IPY_MODEL_d53c4ee1b81b4f199a65a235f610c84d",
              "IPY_MODEL_bdde6e4b89cc4d60977ca2e131b37ac0"
            ],
            "layout": "IPY_MODEL_654b4458d824434f844604f8a92744a5"
          }
        },
        "91bfdc4eb62747db962dfbe39487cf1a": {
          "model_module": "@jupyter-widgets/controls",
          "model_name": "HTMLModel",
          "model_module_version": "1.5.0",
          "state": {
            "_dom_classes": [],
            "_model_module": "@jupyter-widgets/controls",
            "_model_module_version": "1.5.0",
            "_model_name": "HTMLModel",
            "_view_count": null,
            "_view_module": "@jupyter-widgets/controls",
            "_view_module_version": "1.5.0",
            "_view_name": "HTMLView",
            "description": "",
            "description_tooltip": null,
            "layout": "IPY_MODEL_0bee50eeea3f4f49b75d786919c792b9",
            "placeholder": "​",
            "style": "IPY_MODEL_cee4dbfeabaa40959e88c3c5588aad99",
            "value": "100%"
          }
        },
        "d53c4ee1b81b4f199a65a235f610c84d": {
          "model_module": "@jupyter-widgets/controls",
          "model_name": "FloatProgressModel",
          "model_module_version": "1.5.0",
          "state": {
            "_dom_classes": [],
            "_model_module": "@jupyter-widgets/controls",
            "_model_module_version": "1.5.0",
            "_model_name": "FloatProgressModel",
            "_view_count": null,
            "_view_module": "@jupyter-widgets/controls",
            "_view_module_version": "1.5.0",
            "_view_name": "ProgressView",
            "bar_style": "success",
            "description": "",
            "description_tooltip": null,
            "layout": "IPY_MODEL_7a83c6bddbb248e0b899c61ceae7f293",
            "max": 15,
            "min": 0,
            "orientation": "horizontal",
            "style": "IPY_MODEL_a203179e3942463798fce1981015fbf0",
            "value": 15
          }
        },
        "bdde6e4b89cc4d60977ca2e131b37ac0": {
          "model_module": "@jupyter-widgets/controls",
          "model_name": "HTMLModel",
          "model_module_version": "1.5.0",
          "state": {
            "_dom_classes": [],
            "_model_module": "@jupyter-widgets/controls",
            "_model_module_version": "1.5.0",
            "_model_name": "HTMLModel",
            "_view_count": null,
            "_view_module": "@jupyter-widgets/controls",
            "_view_module_version": "1.5.0",
            "_view_name": "HTMLView",
            "description": "",
            "description_tooltip": null,
            "layout": "IPY_MODEL_97ec31ca13b84e43862e2d0a5e25ce90",
            "placeholder": "​",
            "style": "IPY_MODEL_0a74923e33d44dd9a274d77108606107",
            "value": " 15/15 [14:05&lt;00:00, 56.21s/it]"
          }
        },
        "654b4458d824434f844604f8a92744a5": {
          "model_module": "@jupyter-widgets/base",
          "model_name": "LayoutModel",
          "model_module_version": "1.2.0",
          "state": {
            "_model_module": "@jupyter-widgets/base",
            "_model_module_version": "1.2.0",
            "_model_name": "LayoutModel",
            "_view_count": null,
            "_view_module": "@jupyter-widgets/base",
            "_view_module_version": "1.2.0",
            "_view_name": "LayoutView",
            "align_content": null,
            "align_items": null,
            "align_self": null,
            "border": null,
            "bottom": null,
            "display": null,
            "flex": null,
            "flex_flow": null,
            "grid_area": null,
            "grid_auto_columns": null,
            "grid_auto_flow": null,
            "grid_auto_rows": null,
            "grid_column": null,
            "grid_gap": null,
            "grid_row": null,
            "grid_template_areas": null,
            "grid_template_columns": null,
            "grid_template_rows": null,
            "height": null,
            "justify_content": null,
            "justify_items": null,
            "left": null,
            "margin": null,
            "max_height": null,
            "max_width": null,
            "min_height": null,
            "min_width": null,
            "object_fit": null,
            "object_position": null,
            "order": null,
            "overflow": null,
            "overflow_x": null,
            "overflow_y": null,
            "padding": null,
            "right": null,
            "top": null,
            "visibility": null,
            "width": null
          }
        },
        "0bee50eeea3f4f49b75d786919c792b9": {
          "model_module": "@jupyter-widgets/base",
          "model_name": "LayoutModel",
          "model_module_version": "1.2.0",
          "state": {
            "_model_module": "@jupyter-widgets/base",
            "_model_module_version": "1.2.0",
            "_model_name": "LayoutModel",
            "_view_count": null,
            "_view_module": "@jupyter-widgets/base",
            "_view_module_version": "1.2.0",
            "_view_name": "LayoutView",
            "align_content": null,
            "align_items": null,
            "align_self": null,
            "border": null,
            "bottom": null,
            "display": null,
            "flex": null,
            "flex_flow": null,
            "grid_area": null,
            "grid_auto_columns": null,
            "grid_auto_flow": null,
            "grid_auto_rows": null,
            "grid_column": null,
            "grid_gap": null,
            "grid_row": null,
            "grid_template_areas": null,
            "grid_template_columns": null,
            "grid_template_rows": null,
            "height": null,
            "justify_content": null,
            "justify_items": null,
            "left": null,
            "margin": null,
            "max_height": null,
            "max_width": null,
            "min_height": null,
            "min_width": null,
            "object_fit": null,
            "object_position": null,
            "order": null,
            "overflow": null,
            "overflow_x": null,
            "overflow_y": null,
            "padding": null,
            "right": null,
            "top": null,
            "visibility": null,
            "width": null
          }
        },
        "cee4dbfeabaa40959e88c3c5588aad99": {
          "model_module": "@jupyter-widgets/controls",
          "model_name": "DescriptionStyleModel",
          "model_module_version": "1.5.0",
          "state": {
            "_model_module": "@jupyter-widgets/controls",
            "_model_module_version": "1.5.0",
            "_model_name": "DescriptionStyleModel",
            "_view_count": null,
            "_view_module": "@jupyter-widgets/base",
            "_view_module_version": "1.2.0",
            "_view_name": "StyleView",
            "description_width": ""
          }
        },
        "7a83c6bddbb248e0b899c61ceae7f293": {
          "model_module": "@jupyter-widgets/base",
          "model_name": "LayoutModel",
          "model_module_version": "1.2.0",
          "state": {
            "_model_module": "@jupyter-widgets/base",
            "_model_module_version": "1.2.0",
            "_model_name": "LayoutModel",
            "_view_count": null,
            "_view_module": "@jupyter-widgets/base",
            "_view_module_version": "1.2.0",
            "_view_name": "LayoutView",
            "align_content": null,
            "align_items": null,
            "align_self": null,
            "border": null,
            "bottom": null,
            "display": null,
            "flex": null,
            "flex_flow": null,
            "grid_area": null,
            "grid_auto_columns": null,
            "grid_auto_flow": null,
            "grid_auto_rows": null,
            "grid_column": null,
            "grid_gap": null,
            "grid_row": null,
            "grid_template_areas": null,
            "grid_template_columns": null,
            "grid_template_rows": null,
            "height": null,
            "justify_content": null,
            "justify_items": null,
            "left": null,
            "margin": null,
            "max_height": null,
            "max_width": null,
            "min_height": null,
            "min_width": null,
            "object_fit": null,
            "object_position": null,
            "order": null,
            "overflow": null,
            "overflow_x": null,
            "overflow_y": null,
            "padding": null,
            "right": null,
            "top": null,
            "visibility": null,
            "width": null
          }
        },
        "a203179e3942463798fce1981015fbf0": {
          "model_module": "@jupyter-widgets/controls",
          "model_name": "ProgressStyleModel",
          "model_module_version": "1.5.0",
          "state": {
            "_model_module": "@jupyter-widgets/controls",
            "_model_module_version": "1.5.0",
            "_model_name": "ProgressStyleModel",
            "_view_count": null,
            "_view_module": "@jupyter-widgets/base",
            "_view_module_version": "1.2.0",
            "_view_name": "StyleView",
            "bar_color": null,
            "description_width": ""
          }
        },
        "97ec31ca13b84e43862e2d0a5e25ce90": {
          "model_module": "@jupyter-widgets/base",
          "model_name": "LayoutModel",
          "model_module_version": "1.2.0",
          "state": {
            "_model_module": "@jupyter-widgets/base",
            "_model_module_version": "1.2.0",
            "_model_name": "LayoutModel",
            "_view_count": null,
            "_view_module": "@jupyter-widgets/base",
            "_view_module_version": "1.2.0",
            "_view_name": "LayoutView",
            "align_content": null,
            "align_items": null,
            "align_self": null,
            "border": null,
            "bottom": null,
            "display": null,
            "flex": null,
            "flex_flow": null,
            "grid_area": null,
            "grid_auto_columns": null,
            "grid_auto_flow": null,
            "grid_auto_rows": null,
            "grid_column": null,
            "grid_gap": null,
            "grid_row": null,
            "grid_template_areas": null,
            "grid_template_columns": null,
            "grid_template_rows": null,
            "height": null,
            "justify_content": null,
            "justify_items": null,
            "left": null,
            "margin": null,
            "max_height": null,
            "max_width": null,
            "min_height": null,
            "min_width": null,
            "object_fit": null,
            "object_position": null,
            "order": null,
            "overflow": null,
            "overflow_x": null,
            "overflow_y": null,
            "padding": null,
            "right": null,
            "top": null,
            "visibility": null,
            "width": null
          }
        },
        "0a74923e33d44dd9a274d77108606107": {
          "model_module": "@jupyter-widgets/controls",
          "model_name": "DescriptionStyleModel",
          "model_module_version": "1.5.0",
          "state": {
            "_model_module": "@jupyter-widgets/controls",
            "_model_module_version": "1.5.0",
            "_model_name": "DescriptionStyleModel",
            "_view_count": null,
            "_view_module": "@jupyter-widgets/base",
            "_view_module_version": "1.2.0",
            "_view_name": "StyleView",
            "description_width": ""
          }
        }
      }
    }
  },
  "nbformat": 4,
  "nbformat_minor": 0
}